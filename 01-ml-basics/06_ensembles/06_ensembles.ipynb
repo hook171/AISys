{
  "nbformat": 4,
  "nbformat_minor": 0,
  "metadata": {
    "colab": {
      "name": "CG_ENSEMBLES_UNSOLVED.ipynb",
      "provenance": []
    },
    "kernelspec": {
      "name": "python3",
      "display_name": "Python 3"
    }
  },
  "cells": [
    {
      "cell_type": "markdown",
      "metadata": {
        "id": "lvOZpUL1f23a"
      },
      "source": [
        "# Ансамбли моделей\n",
        "## Предисловие\n",
        "Как Вы уже знаете, модели МО можно использовать не только \"как есть\", но ещё и строить разнообразные надстройки над ними. Хорошей идеей такой надстройки было и остаётся объединение моделей в ансамбль.\n",
        "\n",
        "Сама суть ансамблей заключается в том, чтобы объединить предсказания стандартных моделей для повышения обощающей способности или надёжности ансамбля перед одиночным стандартным методом МО.\n",
        "\n",
        "Ансамбли делятся на два типа:\n",
        "\n",
        "- Голосующие (или усредняющие) - смысл их заключается в том, чтобы сначала обучить независимые друг от друга модели, а затем голосованием этих моделей выбирать предсказание (или усреднять предсказания по всем моделям, зависит от задачи). Обычно, качество предсказания у ансамблей лучше потому, что у них понижена дисперсия.\n",
        "\n",
        "    Примеры: [Бэггинг](https://scikit-learn.org/stable/modules/ensemble.html#bagging), [Случайный лес](https://scikit-learn.org/stable/modules/ensemble.html#forest)\n",
        "\n",
        "- Бустинг-ансамбли - последовательности стандартных моделей, построенные так, чтобы каждая последующая добавленная и натренированная модель каким-то образом исправляла ошибки всей предшествующей ей последовательности моделей. \"Объединение слабых моделей даёт сильную модель\".\n",
        "\n",
        "    Примеры: [AdaBoost](https://scikit-learn.org/stable/modules/ensemble.html#adaboost), [Градиентный бустинг](https://scikit-learn.org/stable/modules/ensemble.html#gradient-boosting)\n",
        "\n",
        "Полная [документация](https://scikit-learn.org/stable/modules/classes.html#module-sklearn.ensemble) по доступным в sklearn ансамблям.\n",
        "[Урок](https://habr.com/ru/company/ods/blog/327250/) про бустинг из курса хабра.\n"
      ]
    },
    {
      "cell_type": "markdown",
      "metadata": {
        "id": "xPOeDE6kuMRd"
      },
      "source": [
        "## Задача\n",
        "На этом воркшопе мы будем реализовывать алгоритм градиентного бустинга. Напомню, что в общем смысле бустинг заключается в том, чтобы тренировать каждую последующую модель так, чтобы она исправляла ошибки предыдущих.\n",
        "\n",
        "Прежде чем мы приступим к реализации, давайте вспомним, как он устроен:\n",
        "Краткое описание [оригинального алгоритма](https://statweb.stanford.edu/~jhf/ftp/stobst.pdf) (который придумал Фридман):\n",
        "Для работы алгоритма помимо данных нужно подать:\n",
        "1. количество итераций $M \\in \\mathbb{N}$;\n",
        "2. функцию потерь $L(y,f)$, где $y$ - истинные значения, $f$ - полученная аппроксимация искомой функции (в данном случае это будет не функция, а просто предсказанные значения).\n",
        "Важно, чтобы функция потерь была дифференцируемой по $f$;\n",
        "3. базовая модель, на основе которой мы будем делать бустинг - в данном воркшопе мы воспользуемся деревьями решений;\n",
        "4. Начальное приближение $f_0(x)$ - чаще всего для этого используют некую константу.\n",
        "\n",
        "**Сам алгоритм:**\n",
        "1. Задаём начальное приближение функции $f(x) = f_0(x)$ константой - в данном случае можно выбрать ноль, среднее по столбцу с целевым признаком или что-нибудь ещё.\n",
        "2. Далее итеративно $t$ от 1 до $M$:\n",
        "    1. Считаем остатки как $\\large r_{t} = -\\left[\\frac{\\partial L(y, f(x))}{\\partial f(x)}\\right]_{f(x)=\\hat{f}(x)}$\n",
        "    2. Обучаем ещё одну базовую модель $h_t(x)$, при этом нецелевыми признаками у нас будет $x$, а в качестве целевого будем использовать остатки $r_t$, полученные на текущем шаге\n",
        "    3. Найти оптимальный коэффициент $\\rho_t = \\underset{\\rho}{\\arg\\min} \\ L(y, \\hat{f}(x) + \\rho \\cdot h(x))$\n",
        "    4. обновить текущее приближение $\\hat{f}(x) \\leftarrow \\hat{f}(x) + \\hat{f}_i(x)$, где $\\hat{f}_i(x) = \\rho_t \\cdot h_t(x)$\n",
        "3. Собрать все полученные базовые алгоритмы в модель $\\hat{f}(x) = \\sum_{i = 0}^M \\hat{f_i}(x)$\n",
        "\n",
        "**Функции потерь:**\n",
        "- $L(y, f) = \\frac{1}{2}(y - f)^2$ - _MSE-loss_. Используйте его если считаете, что у модели нет никаких дополнительных требований к стабильности.\n",
        "- $L(y, f) = |y - f|$ - _MAE-loss_. Применять при требованиях к стабильности модели. Из минусов можно выделить то, что её немного сложнее дифференцировать (придётся искать производные на разных кусках)\n",
        "- $\\begin{equation} L(y, f) =\\left\\{ \\begin{array}{@{}ll@{}} (1 - \\alpha) \\cdot |y - f|, & \\largeесли\\ y-f \\leq 0 \\\\ \\alpha \\cdot |y - f|, & \\largeесли\\ y-f >0 \\end{array}\\right. \\end{equation}, \\alpha \\in (0,1)$ - $L_q$-loss. Применять при наличии особых требований к модели, например, когда нам нужно восстановить не среднее и не медиану условного распределения $(y|x)$, а какую-нибудь квантиль. Штрафует наблюдения, попадающие выше $\\alpha$-той квантили.\n",
        "\n",
        "**Замечание:**\n",
        "1. коэффициенты $\\rho_i$ искать не обязательно, их можно считать равными единице\n",
        "2. функции потерь для регрессии бывают 3 видов, Вам достаточно реализовать хотя бы одну из них (конечно, будет здорово, если вы реализуете их все) и посчитать для неё градиент, тоже в виде функции.\n",
        "\n",
        "Настоятельно рекомендуем прочитать оригинальное описание алгоритма, так как там содержатся подробные выводы формул на каждом этапе.\n"
      ]
    },
    {
      "cell_type": "markdown",
      "metadata": {
        "id": "FFQvLM09s-h3"
      },
      "source": [
        "## Реализация алгоритма\n",
        "\n",
        "Как обычно, сначала импортируем всё, что нам нужно.\n",
        "\n",
        "В этот раз будем использовать деревья [напрямую из библиотеки sklearn](https://scikit-learn.org/stable/modules/generated/sklearn.tree.DecisionTreeRegressor.html). Про параметры можно прочитать в документации по ссылке, в остальном же модели `sklearn` почти полностью идентичны тем, которые мы реализовывали в рамках курса - метод `fit` принимает признаки и целевой класс, а метод `predict` - признаки, для которых мы хотим выполнить предсказание, и возвращает предсказанные метки."
      ]
    },
    {
      "cell_type": "code",
      "metadata": {
        "id": "U_l5Vz59KWtL"
      },
      "source": [
        "import numpy as np\n",
        "import pandas as pd\n",
        "from matplotlib import pyplot as plt\n",
        "import seaborn as sns\n",
        "from sklearn.tree import DecisionTreeRegressor"
      ],
      "execution_count": 1,
      "outputs": []
    },
    {
      "cell_type": "markdown",
      "metadata": {
        "id": "WAHLwjJis8S9"
      },
      "source": [
        "Теперь реализуйте функции потерь. Как я писал ранее, достаточно реализовать MSE loss или одну любую другую. Остальные - как дополнительное задание. Описания даны выше."
      ]
    },
    {
      "cell_type": "code",
      "metadata": {
        "id": "C7o43E1QwGqW"
      },
      "source": [
        "def MSE_loss(y_real, y_predicted):\n",
        "\n",
        "    return 0.5 * np.mean((y_real - y_predicted) ** 2)\n",
        "\n",
        "def MSE_loss_gradient(y_real, y_predicted):\n",
        "\n",
        "    return -(y_real - y_predicted)\n",
        "\n",
        "def MAE_loss(y_real, y_predicted):\n",
        "\n",
        "    return np.mean(np.abs(y_real - y_predicted))\n",
        "\n",
        "def MAE_loss_gradient(y_real, y_predicted):\n",
        "\n",
        "    return np.where(y_predicted > y_real, 1, -1)\n",
        "\n",
        "def lq_loss(y_real, y_predicted):\n",
        "\n",
        "    diff = y_real - y_predicted\n",
        "    return np.mean(np.where(diff <= 0, (1 - alpha) * np.abs(diff), alpha * np.abs(diff)))\n",
        "\n",
        "def lq_loss_gradient(y_real, y_predicted):\n",
        "\n",
        "    diff = y_real - y_predicted\n",
        "    return np.where(diff <= 0, (1 - alpha), -alpha)"
      ],
      "execution_count": 21,
      "outputs": []
    },
    {
      "cell_type": "markdown",
      "metadata": {
        "id": "zhMtSWwUtS86"
      },
      "source": [
        "Здесь мы просто упакуем функции в словарь, чтобы можно было передавать имя функции в алгоритм строкой."
      ]
    },
    {
      "cell_type": "code",
      "metadata": {
        "id": "6mDM1iApGxc9"
      },
      "source": [
        "losses = {\n",
        "    'MSE': (MSE_loss, MSE_loss_gradient),\n",
        "    'MAE': (MAE_loss, MAE_loss_gradient),\n",
        "    'lq': (lq_loss, lq_loss_gradient),\n",
        "}"
      ],
      "execution_count": 22,
      "outputs": []
    },
    {
      "cell_type": "markdown",
      "metadata": {
        "id": "F2gn8mkitdkM"
      },
      "source": [
        "### Теперь приступим к реализации самого алгоритма.\n",
        "\n",
        "**Описание полей класса:**\n",
        "\n",
        "- `GradientTreeBoosting.estimators` - список, в котором мы будем хранить обученные деревья;\n",
        "- `GradientTreeBoosting.tree_kwargs` - параметры конструктора для деревьев, такие как глубина дерева, max features, и т.д. Подробнее в [документации](https://scikit-learn.org/stable/modules/generated/sklearn.tree.DecisionTreeRegressor.html#sklearn.tree.DecisionTreeRegressor);\n",
        "- `GradientTreeBoosting.iteration` - $M$ из формул выше - количество итераций бустинга, и, одновременно, количество моделей, которые мы построим и объединим в ансамбль в результате бустинга;\n",
        "- `GradientTreeBoosting.loss` - функция потерь;\n",
        "- `GradientTreeBoosting.loss_grad` - градиент этой функции потерь.\n",
        "\n",
        "Методы `fit` и `predict` класса ответсвенны за обучение и предсказание.\n",
        "\n",
        "В методе `fit` Вам надо будет строить деревья, при построении деревьев не забудьте передать `tree_kwards` в качестве параметров конструктора.\n",
        "\n",
        "Обратите внимание, что по-умолчанию в качестве функции потерь указан l2-loss. Если вы его не реализовали, то измените на что-нибудь другое(или каждый раз указывайте явно или напишите try-except-блок)."
      ]
    },
    {
      "cell_type": "code",
      "metadata": {
        "id": "7j5kRdQzia0c"
      },
      "source": [
        "class GradientTreeBoosting:\n",
        "    def __init__(self, loss='MSE', iterations=10, **tree_kwargs):\n",
        "        self.estimators = []\n",
        "        self.tree_kwargs = tree_kwargs\n",
        "        self.iterations = iterations\n",
        "        self.loss, self.loss_grad = losses.get(loss)\n",
        "        self.initial_prediction = None\n",
        "\n",
        "    def fit(self, x, y):\n",
        "        y = y.astype(np.float64)\n",
        "\n",
        "        self.initial_prediction = np.mean(y)\n",
        "        current_prediction = np.full_like(y, self.initial_prediction, dtype=np.float64)\n",
        "\n",
        "        for _ in range(self.iterations):\n",
        "            residuals = -self.loss_grad(y, current_prediction)\n",
        "\n",
        "            tree = DecisionTreeRegressor(**self.tree_kwargs)\n",
        "            tree.fit(x, residuals)\n",
        "\n",
        "            self.estimators.append(tree)\n",
        "            current_prediction += tree.predict(x)\n",
        "\n",
        "        return self\n",
        "\n",
        "    def predict(self, x):\n",
        "        predictions = np.full(x.shape[0], self.initial_prediction, dtype=np.float64)\n",
        "\n",
        "        for tree in self.estimators:\n",
        "            predictions += tree.predict(x)\n",
        "\n",
        "        return predictions"
      ],
      "execution_count": 23,
      "outputs": []
    },
    {
      "cell_type": "markdown",
      "metadata": {
        "id": "-dYkkmqKtjah"
      },
      "source": [
        "### Проверка на игрушечном примере\n",
        "\n",
        "Сгенерируем выборку на основе косинуса и проверим, на сколько хорошо бустинг деревьев справится с этой задачей. Сравнивать будем с обычным деревом с такими же параметрами. Про методы `np.random` можете найти справку во 2 теме."
      ]
    },
    {
      "cell_type": "code",
      "metadata": {
        "colab": {
          "base_uri": "https://localhost:8080/",
          "height": 654
        },
        "id": "Wk5tNuOGX6Xx",
        "outputId": "661dd431-e625-4aff-d841-7e7a000a2245"
      },
      "source": [
        "# генерируем данные\n",
        "np.random.seed(42)\n",
        "x = np.random.uniform(low=-2*np.math.pi, high=2*np.math.pi, size=(300))\n",
        "y = np.cos(x) + np.random.randn(300) * 0.2\n",
        "\n",
        "# обучаем обычное дерево глубины 3\n",
        "tree = DecisionTreeRegressor(max_depth=3, random_state=42)\n",
        "tree.fit(x.reshape(-1, 1), y)\n",
        "\n",
        "# обучаем наш бустинг-ансамбль\n",
        "clf = GradientTreeBoosting(iterations=3, max_depth=3, random_state=42)\n",
        "clf.fit(x.reshape(-1, 1), y)\n",
        "\n",
        "# визуализация\n",
        "plt.figure(figsize=(10,7))\n",
        "sns.scatterplot(x=x, y=y, label='original data')\n",
        "sns.scatterplot(x=x, y=clf.predict(x.reshape(-1, 1)), label='boosting')\n",
        "sns.scatterplot(x=x, y=tree.predict(x.reshape(-1, 1)), label='tree')"
      ],
      "execution_count": 25,
      "outputs": [
        {
          "output_type": "stream",
          "name": "stderr",
          "text": [
            "<ipython-input-25-ce942dbd6d4e>:3: DeprecationWarning: `np.math` is a deprecated alias for the standard library `math` module (Deprecated Numpy 1.25). Replace usages of `np.math` with `math`\n",
            "  x = np.random.uniform(low=-2*np.math.pi, high=2*np.math.pi, size=(300))\n"
          ]
        },
        {
          "output_type": "execute_result",
          "data": {
            "text/plain": [
              "<Axes: >"
            ]
          },
          "metadata": {},
          "execution_count": 25
        },
        {
          "output_type": "display_data",
          "data": {
            "text/plain": [
              "<Figure size 1000x700 with 1 Axes>"
            ],
            "image/png": "[encoded data removed]"
          },
          "metadata": {}
        }
      ]
    },
    {
      "cell_type": "markdown",
      "metadata": {
        "id": "NhhVDno3Peup"
      },
      "source": [
        "### Бустинг на практике: прогнозирование оттока пользователей из мобильной сети\n",
        "\n",
        "Будем решать задачу классификации (sic!), предсказывая, уйдёт ли пользователь мобильной сети или нет.\n",
        "Задача [отсюда](https://www.kaggle.com/mnassrib/telecom-churn-datasets).\n",
        "\n",
        "Данные и их типы:\n",
        "- State: string\n",
        "- Account length: integer\n",
        "- Area code: integer\n",
        "- International plan: string\n",
        "- Voice mail plan: string\n",
        "- Number vmail messages: integer\n",
        "- Total day minutes: double\n",
        "- Total day calls: integer\n",
        "- Total day charge: double\n",
        "- Total eve minutes: double\n",
        "- Total eve calls: integer\n",
        "- Total eve charge: double\n",
        "- Total night minutes: double\n",
        "- Total night calls: integer\n",
        "- Total night charge: double\n",
        "- Total intl minutes: double\n",
        "- Total intl calls: integer\n",
        "- Total intl charge: double\n",
        "- Customer service calls: integer\n",
        "- Churn: string - целевой признак - уйдёт или нет (на самом деле pandas понимает его как булев)\n",
        "\n",
        "Предсказывать будем логиты, то есть вероятность того, что клиент уйдёт, и на основе её уже делать прогноз, уйдёт ли он на самом деле или нет.\n",
        "\n",
        "Вам предстоит самостоятельно провести эксперимент. Сравните качество нашей бустинг-модели с обычными методами МО (вспомните и подумайте, какие лучше).\n",
        "\n",
        "В качестве метрики качества используйте `f1_score` (а ещё лучше, `classification_report`)."
      ]
    },
    {
      "cell_type": "markdown",
      "metadata": {
        "id": "wzxc8HxaOFFJ"
      },
      "source": [
        "#### Загрузите данные и предобработайте их.\n",
        "\n",
        "Разбейте данные на тренировочную и тестовую подвыборки.\n",
        "\n",
        "Поскольку деревья из sklearn не поддерживают категориальные признаки, Вам придётся решить эту проблему - попробуйте удалить их _или_ обработать известными нам способами ([one-hot-encoding](https://habr.com/ru/company/ods/blog/326418/#one-hot-encoding), счётчики  и тп).\n",
        "\n",
        "В описании к датасету предполагалось использовать больший датасет (churn-bigml-80.csv) для обучения, а меньший (churn-bigml-20.csv) для проверки.\n"
      ]
    },
    {
      "cell_type": "code",
      "metadata": {
        "colab": {
          "base_uri": "https://localhost:8080/",
          "height": 241
        },
        "id": "oC75IvcK5HEf",
        "outputId": "e5142e7a-e85c-47a6-bc09-f69a4f2aeb1c"
      },
      "source": [
        "link ='https://gitlab.7bits.it/coding-garden/coding-garden-ml-data/-/raw/master/data_churn-bigml-80.csv'\n",
        "df = pd.read_csv(link, sep=',')\n",
        "\n",
        "df.head()"
      ],
      "execution_count": 26,
      "outputs": [
        {
          "output_type": "execute_result",
          "data": {
            "text/plain": [
              "  State  Account length  Area code International plan Voice mail plan  \\\n",
              "0    KS             128        415                 No             Yes   \n",
              "1    OH             107        415                 No             Yes   \n",
              "2    NJ             137        415                 No              No   \n",
              "3    OH              84        408                Yes              No   \n",
              "4    OK              75        415                Yes              No   \n",
              "\n",
              "   Number vmail messages  Total day minutes  Total day calls  \\\n",
              "0                     25              265.1              110   \n",
              "1                     26              161.6              123   \n",
              "2                      0              243.4              114   \n",
              "3                      0              299.4               71   \n",
              "4                      0              166.7              113   \n",
              "\n",
              "   Total day charge  Total eve minutes  Total eve calls  Total eve charge  \\\n",
              "0             45.07              197.4               99             16.78   \n",
              "1             27.47              195.5              103             16.62   \n",
              "2             41.38              121.2              110             10.30   \n",
              "3             50.90               61.9               88              5.26   \n",
              "4             28.34              148.3              122             12.61   \n",
              "\n",
              "   Total night minutes  Total night calls  Total night charge  \\\n",
              "0                244.7                 91               11.01   \n",
              "1                254.4                103               11.45   \n",
              "2                162.6                104                7.32   \n",
              "3                196.9                 89                8.86   \n",
              "4                186.9                121                8.41   \n",
              "\n",
              "   Total intl minutes  Total intl calls  Total intl charge  \\\n",
              "0                10.0                 3               2.70   \n",
              "1                13.7                 3               3.70   \n",
              "2                12.2                 5               3.29   \n",
              "3                 6.6                 7               1.78   \n",
              "4                10.1                 3               2.73   \n",
              "\n",
              "   Customer service calls  Churn  \n",
              "0                       1  False  \n",
              "1                       1  False  \n",
              "2                       0  False  \n",
              "3                       2  False  \n",
              "4                       3  False  "
            ],
            "text/html": [
              "\n",
              "  <div id=\"df-2676ef61-f472-45ea-ae8c-fb9e88406d88\" class=\"colab-df-container\">\n",
              "    <div>\n",
              "<style scoped>\n",
              "    .dataframe tbody tr th:only-of-type {\n",
              "        vertical-align: middle;\n",
              "    }\n",
              "\n",
              "    .dataframe tbody tr th {\n",
              "        vertical-align: top;\n",
              "    }\n",
              "\n",
              "    .dataframe thead th {\n",
              "        text-align: right;\n",
              "    }\n",
              "</style>\n",
              "<table border=\"1\" class=\"dataframe\">\n",
              "  <thead>\n",
              "    <tr style=\"text-align: right;\">\n",
              "      <th></th>\n",
              "      <th>State</th>\n",
              "      <th>Account length</th>\n",
              "      <th>Area code</th>\n",
              "      <th>International plan</th>\n",
              "      <th>Voice mail plan</th>\n",
              "      <th>Number vmail messages</th>\n",
              "      <th>Total day minutes</th>\n",
              "      <th>Total day calls</th>\n",
              "      <th>Total day charge</th>\n",
              "      <th>Total eve minutes</th>\n",
              "      <th>Total eve calls</th>\n",
              "      <th>Total eve charge</th>\n",
              "      <th>Total night minutes</th>\n",
              "      <th>Total night calls</th>\n",
              "      <th>Total night charge</th>\n",
              "      <th>Total intl minutes</th>\n",
              "      <th>Total intl calls</th>\n",
              "      <th>Total intl charge</th>\n",
              "      <th>Customer service calls</th>\n",
              "      <th>Churn</th>\n",
              "    </tr>\n",
              "  </thead>\n",
              "  <tbody>\n",
              "    <tr>\n",
              "      <th>0</th>\n",
              "      <td>KS</td>\n",
              "      <td>128</td>\n",
              "      <td>415</td>\n",
              "      <td>No</td>\n",
              "      <td>Yes</td>\n",
              "      <td>25</td>\n",
              "      <td>265.1</td>\n",
              "      <td>110</td>\n",
              "      <td>45.07</td>\n",
              "      <td>197.4</td>\n",
              "      <td>99</td>\n",
              "      <td>16.78</td>\n",
              "      <td>244.7</td>\n",
              "      <td>91</td>\n",
              "      <td>11.01</td>\n",
              "      <td>10.0</td>\n",
              "      <td>3</td>\n",
              "      <td>2.70</td>\n",
              "      <td>1</td>\n",
              "      <td>False</td>\n",
              "    </tr>\n",
              "    <tr>\n",
              "      <th>1</th>\n",
              "      <td>OH</td>\n",
              "      <td>107</td>\n",
              "      <td>415</td>\n",
              "      <td>No</td>\n",
              "      <td>Yes</td>\n",
              "      <td>26</td>\n",
              "      <td>161.6</td>\n",
              "      <td>123</td>\n",
              "      <td>27.47</td>\n",
              "      <td>195.5</td>\n",
              "      <td>103</td>\n",
              "      <td>16.62</td>\n",
              "      <td>254.4</td>\n",
              "      <td>103</td>\n",
              "      <td>11.45</td>\n",
              "      <td>13.7</td>\n",
              "      <td>3</td>\n",
              "      <td>3.70</td>\n",
              "      <td>1</td>\n",
              "      <td>False</td>\n",
              "    </tr>\n",
              "    <tr>\n",
              "      <th>2</th>\n",
              "      <td>NJ</td>\n",
              "      <td>137</td>\n",
              "      <td>415</td>\n",
              "      <td>No</td>\n",
              "      <td>No</td>\n",
              "      <td>0</td>\n",
              "      <td>243.4</td>\n",
              "      <td>114</td>\n",
              "      <td>41.38</td>\n",
              "      <td>121.2</td>\n",
              "      <td>110</td>\n",
              "      <td>10.30</td>\n",
              "      <td>162.6</td>\n",
              "      <td>104</td>\n",
              "      <td>7.32</td>\n",
              "      <td>12.2</td>\n",
              "      <td>5</td>\n",
              "      <td>3.29</td>\n",
              "      <td>0</td>\n",
              "      <td>False</td>\n",
              "    </tr>\n",
              "    <tr>\n",
              "      <th>3</th>\n",
              "      <td>OH</td>\n",
              "      <td>84</td>\n",
              "      <td>408</td>\n",
              "      <td>Yes</td>\n",
              "      <td>No</td>\n",
              "      <td>0</td>\n",
              "      <td>299.4</td>\n",
              "      <td>71</td>\n",
              "      <td>50.90</td>\n",
              "      <td>61.9</td>\n",
              "      <td>88</td>\n",
              "      <td>5.26</td>\n",
              "      <td>196.9</td>\n",
              "      <td>89</td>\n",
              "      <td>8.86</td>\n",
              "      <td>6.6</td>\n",
              "      <td>7</td>\n",
              "      <td>1.78</td>\n",
              "      <td>2</td>\n",
              "      <td>False</td>\n",
              "    </tr>\n",
              "    <tr>\n",
              "      <th>4</th>\n",
              "      <td>OK</td>\n",
              "      <td>75</td>\n",
              "      <td>415</td>\n",
              "      <td>Yes</td>\n",
              "      <td>No</td>\n",
              "      <td>0</td>\n",
              "      <td>166.7</td>\n",
              "      <td>113</td>\n",
              "      <td>28.34</td>\n",
              "      <td>148.3</td>\n",
              "      <td>122</td>\n",
              "      <td>12.61</td>\n",
              "      <td>186.9</td>\n",
              "      <td>121</td>\n",
              "      <td>8.41</td>\n",
              "      <td>10.1</td>\n",
              "      <td>3</td>\n",
              "      <td>2.73</td>\n",
              "      <td>3</td>\n",
              "      <td>False</td>\n",
              "    </tr>\n",
              "  </tbody>\n",
              "</table>\n",
              "</div>\n",
              "    <div class=\"colab-df-buttons\">\n",
              "\n",
              "  <div class=\"colab-df-container\">\n",
              "    <button class=\"colab-df-convert\" onclick=\"convertToInteractive('df-2676ef61-f472-45ea-ae8c-fb9e88406d88')\"\n",
              "            title=\"Convert this dataframe to an interactive table.\"\n",
              "            style=\"display:none;\">\n",
              "\n",
              "  <svg xmlns=\"http://www.w3.org/2000/svg\" height=\"24px\" viewBox=\"0 -960 960 960\">\n",
              "    <path d=\"M120-120v-720h720v720H120Zm60-500h600v-160H180v160Zm220 220h160v-160H400v160Zm0 220h160v-160H400v160ZM180-400h160v-160H180v160Zm440 0h160v-160H620v160ZM180-180h160v-160H180v160Zm440 0h160v-160H620v160Z\"/>\n",
              "  </svg>\n",
              "    </button>\n",
              "\n",
              "  <style>\n",
              "    .colab-df-container {\n",
              "      display:flex;\n",
              "      gap: 12px;\n",
              "    }\n",
              "\n",
              "    .colab-df-convert {\n",
              "      background-color: #E8F0FE;\n",
              "      border: none;\n",
              "      border-radius: 50%;\n",
              "      cursor: pointer;\n",
              "      display: none;\n",
              "      fill: #1967D2;\n",
              "      height: 32px;\n",
              "      padding: 0 0 0 0;\n",
              "      width: 32px;\n",
              "    }\n",
              "\n",
              "    .colab-df-convert:hover {\n",
              "      background-color: #E2EBFA;\n",
              "      box-shadow: 0px 1px 2px rgba(60, 64, 67, 0.3), 0px 1px 3px 1px rgba(60, 64, 67, 0.15);\n",
              "      fill: #174EA6;\n",
              "    }\n",
              "\n",
              "    .colab-df-buttons div {\n",
              "      margin-bottom: 4px;\n",
              "    }\n",
              "\n",
              "    [theme=dark] .colab-df-convert {\n",
              "      background-color: #3B4455;\n",
              "      fill: #D2E3FC;\n",
              "    }\n",
              "\n",
              "    [theme=dark] .colab-df-convert:hover {\n",
              "      background-color: #434B5C;\n",
              "      box-shadow: 0px 1px 3px 1px rgba(0, 0, 0, 0.15);\n",
              "      filter: drop-shadow(0px 1px 2px rgba(0, 0, 0, 0.3));\n",
              "      fill: #FFFFFF;\n",
              "    }\n",
              "  </style>\n",
              "\n",
              "    <script>\n",
              "      const buttonEl =\n",
              "        document.querySelector('#df-2676ef61-f472-45ea-ae8c-fb9e88406d88 button.colab-df-convert');\n",
              "      buttonEl.style.display =\n",
              "        google.colab.kernel.accessAllowed ? 'block' : 'none';\n",
              "\n",
              "      async function convertToInteractive(key) {\n",
              "        const element = document.querySelector('#df-2676ef61-f472-45ea-ae8c-fb9e88406d88');\n",
              "        const dataTable =\n",
              "          await google.colab.kernel.invokeFunction('convertToInteractive',\n",
              "                                                    [key], {});\n",
              "        if (!dataTable) return;\n",
              "\n",
              "        const docLinkHtml = 'Like what you see? Visit the ' +\n",
              "          '<a target=\"_blank\" href=https://colab.research.google.com/notebooks/data_table.ipynb>data table notebook</a>'\n",
              "          + ' to learn more about interactive tables.';\n",
              "        element.innerHTML = '';\n",
              "        dataTable['output_type'] = 'display_data';\n",
              "        await google.colab.output.renderOutput(dataTable, element);\n",
              "        const docLink = document.createElement('div');\n",
              "        docLink.innerHTML = docLinkHtml;\n",
              "        element.appendChild(docLink);\n",
              "      }\n",
              "    </script>\n",
              "  </div>\n",
              "\n",
              "\n",
              "<div id=\"df-541364eb-63f5-4939-8e4d-4c9f1647e7a7\">\n",
              "  <button class=\"colab-df-quickchart\" onclick=\"quickchart('df-541364eb-63f5-4939-8e4d-4c9f1647e7a7')\"\n",
              "            title=\"Suggest charts\"\n",
              "            style=\"display:none;\">\n",
              "\n",
              "<svg xmlns=\"http://www.w3.org/2000/svg\" height=\"24px\"viewBox=\"0 0 24 24\"\n",
              "     width=\"24px\">\n",
              "    <g>\n",
              "        <path d=\"M19 3H5c-1.1 0-2 .9-2 2v14c0 1.1.9 2 2 2h14c1.1 0 2-.9 2-2V5c0-1.1-.9-2-2-2zM9 17H7v-7h2v7zm4 0h-2V7h2v10zm4 0h-2v-4h2v4z\"/>\n",
              "    </g>\n",
              "</svg>\n",
              "  </button>\n",
              "\n",
              "<style>\n",
              "  .colab-df-quickchart {\n",
              "      --bg-color: #E8F0FE;\n",
              "      --fill-color: #1967D2;\n",
              "      --hover-bg-color: #E2EBFA;\n",
              "      --hover-fill-color: #174EA6;\n",
              "      --disabled-fill-color: #AAA;\n",
              "      --disabled-bg-color: #DDD;\n",
              "  }\n",
              "\n",
              "  [theme=dark] .colab-df-quickchart {\n",
              "      --bg-color: #3B4455;\n",
              "      --fill-color: #D2E3FC;\n",
              "      --hover-bg-color: #434B5C;\n",
              "      --hover-fill-color: #FFFFFF;\n",
              "      --disabled-bg-color: #3B4455;\n",
              "      --disabled-fill-color: #666;\n",
              "  }\n",
              "\n",
              "  .colab-df-quickchart {\n",
              "    background-color: var(--bg-color);\n",
              "    border: none;\n",
              "    border-radius: 50%;\n",
              "    cursor: pointer;\n",
              "    display: none;\n",
              "    fill: var(--fill-color);\n",
              "    height: 32px;\n",
              "    padding: 0;\n",
              "    width: 32px;\n",
              "  }\n",
              "\n",
              "  .colab-df-quickchart:hover {\n",
              "    background-color: var(--hover-bg-color);\n",
              "    box-shadow: 0 1px 2px rgba(60, 64, 67, 0.3), 0 1px 3px 1px rgba(60, 64, 67, 0.15);\n",
              "    fill: var(--button-hover-fill-color);\n",
              "  }\n",
              "\n",
              "  .colab-df-quickchart-complete:disabled,\n",
              "  .colab-df-quickchart-complete:disabled:hover {\n",
              "    background-color: var(--disabled-bg-color);\n",
              "    fill: var(--disabled-fill-color);\n",
              "    box-shadow: none;\n",
              "  }\n",
              "\n",
              "  .colab-df-spinner {\n",
              "    border: 2px solid var(--fill-color);\n",
              "    border-color: transparent;\n",
              "    border-bottom-color: var(--fill-color);\n",
              "    animation:\n",
              "      spin 1s steps(1) infinite;\n",
              "  }\n",
              "\n",
              "  @keyframes spin {\n",
              "    0% {\n",
              "      border-color: transparent;\n",
              "      border-bottom-color: var(--fill-color);\n",
              "      border-left-color: var(--fill-color);\n",
              "    }\n",
              "    20% {\n",
              "      border-color: transparent;\n",
              "      border-left-color: var(--fill-color);\n",
              "      border-top-color: var(--fill-color);\n",
              "    }\n",
              "    30% {\n",
              "      border-color: transparent;\n",
              "      border-left-color: var(--fill-color);\n",
              "      border-top-color: var(--fill-color);\n",
              "      border-right-color: var(--fill-color);\n",
              "    }\n",
              "    40% {\n",
              "      border-color: transparent;\n",
              "      border-right-color: var(--fill-color);\n",
              "      border-top-color: var(--fill-color);\n",
              "    }\n",
              "    60% {\n",
              "      border-color: transparent;\n",
              "      border-right-color: var(--fill-color);\n",
              "    }\n",
              "    80% {\n",
              "      border-color: transparent;\n",
              "      border-right-color: var(--fill-color);\n",
              "      border-bottom-color: var(--fill-color);\n",
              "    }\n",
              "    90% {\n",
              "      border-color: transparent;\n",
              "      border-bottom-color: var(--fill-color);\n",
              "    }\n",
              "  }\n",
              "</style>\n",
              "\n",
              "  <script>\n",
              "    async function quickchart(key) {\n",
              "      const quickchartButtonEl =\n",
              "        document.querySelector('#' + key + ' button');\n",
              "      quickchartButtonEl.disabled = true;  // To prevent multiple clicks.\n",
              "      quickchartButtonEl.classList.add('colab-df-spinner');\n",
              "      try {\n",
              "        const charts = await google.colab.kernel.invokeFunction(\n",
              "            'suggestCharts', [key], {});\n",
              "      } catch (error) {\n",
              "        console.error('Error during call to suggestCharts:', error);\n",
              "      }\n",
              "      quickchartButtonEl.classList.remove('colab-df-spinner');\n",
              "      quickchartButtonEl.classList.add('colab-df-quickchart-complete');\n",
              "    }\n",
              "    (() => {\n",
              "      let quickchartButtonEl =\n",
              "        document.querySelector('#df-541364eb-63f5-4939-8e4d-4c9f1647e7a7 button');\n",
              "      quickchartButtonEl.style.display =\n",
              "        google.colab.kernel.accessAllowed ? 'block' : 'none';\n",
              "    })();\n",
              "  </script>\n",
              "</div>\n",
              "    </div>\n",
              "  </div>\n"
            ],
            "application/vnd.google.colaboratory.intrinsic+json": {
              "type": "dataframe",
              "variable_name": "df",
              "summary": "{\n  \"name\": \"df\",\n  \"rows\": 2666,\n  \"fields\": [\n    {\n      \"column\": \"State\",\n      \"properties\": {\n        \"dtype\": \"category\",\n        \"num_unique_values\": 51,\n        \"samples\": [\n          \"MS\",\n          \"NY\",\n          \"TN\"\n        ],\n        \"semantic_type\": \"\",\n        \"description\": \"\"\n      }\n    },\n    {\n      \"column\": \"Account length\",\n      \"properties\": {\n        \"dtype\": \"number\",\n        \"std\": 39,\n        \"min\": 1,\n        \"max\": 243,\n        \"num_unique_values\": 205,\n        \"samples\": [\n          76,\n          74,\n          53\n        ],\n        \"semantic_type\": \"\",\n        \"description\": \"\"\n      }\n    },\n    {\n      \"column\": \"Area code\",\n      \"properties\": {\n        \"dtype\": \"number\",\n        \"std\": 42,\n        \"min\": 408,\n        \"max\": 510,\n        \"num_unique_values\": 3,\n        \"samples\": [\n          415,\n          408,\n          510\n        ],\n        \"semantic_type\": \"\",\n        \"description\": \"\"\n      }\n    },\n    {\n      \"column\": \"International plan\",\n      \"properties\": {\n        \"dtype\": \"category\",\n        \"num_unique_values\": 2,\n        \"samples\": [\n          \"Yes\",\n          \"No\"\n        ],\n        \"semantic_type\": \"\",\n        \"description\": \"\"\n      }\n    },\n    {\n      \"column\": \"Voice mail plan\",\n      \"properties\": {\n        \"dtype\": \"category\",\n        \"num_unique_values\": 2,\n        \"samples\": [\n          \"No\",\n          \"Yes\"\n        ],\n        \"semantic_type\": \"\",\n        \"description\": \"\"\n      }\n    },\n    {\n      \"column\": \"Number vmail messages\",\n      \"properties\": {\n        \"dtype\": \"number\",\n        \"std\": 13,\n        \"min\": 0,\n        \"max\": 50,\n        \"num_unique_values\": 42,\n        \"samples\": [\n          32,\n          35\n        ],\n        \"semantic_type\": \"\",\n        \"description\": \"\"\n      }\n    },\n    {\n      \"column\": \"Total day minutes\",\n      \"properties\": {\n        \"dtype\": \"number\",\n        \"std\": 54.210350220869856,\n        \"min\": 0.0,\n        \"max\": 350.8,\n        \"num_unique_values\": 1489,\n        \"samples\": [\n          119.2,\n          206.5\n        ],\n        \"semantic_type\": \"\",\n        \"description\": \"\"\n      }\n    },\n    {\n      \"column\": \"Total day calls\",\n      \"properties\": {\n        \"dtype\": \"number\",\n        \"std\": 19,\n        \"min\": 0,\n        \"max\": 160,\n        \"num_unique_values\": 115,\n        \"samples\": [\n          53,\n          113\n        ],\n        \"semantic_type\": \"\",\n        \"description\": \"\"\n      }\n    },\n    {\n      \"column\": \"Total day charge\",\n      \"properties\": {\n        \"dtype\": \"number\",\n        \"std\": 9.215732907163508,\n        \"min\": 0.0,\n        \"max\": 59.64,\n        \"num_unique_values\": 1489,\n        \"samples\": [\n          20.26,\n          35.11\n        ],\n        \"semantic_type\": \"\",\n        \"description\": \"\"\n      }\n    },\n    {\n      \"column\": \"Total eve minutes\",\n      \"properties\": {\n        \"dtype\": \"number\",\n        \"std\": 50.95151511764593,\n        \"min\": 0.0,\n        \"max\": 363.7,\n        \"num_unique_values\": 1442,\n        \"samples\": [\n          347.3,\n          106.1\n        ],\n        \"semantic_type\": \"\",\n        \"description\": \"\"\n      }\n    },\n    {\n      \"column\": \"Total eve calls\",\n      \"properties\": {\n        \"dtype\": \"number\",\n        \"std\": 20,\n        \"min\": 0,\n        \"max\": 170,\n        \"num_unique_values\": 120,\n        \"samples\": [\n          117,\n          105\n        ],\n        \"semantic_type\": \"\",\n        \"description\": \"\"\n      }\n    },\n    {\n      \"column\": \"Total eve charge\",\n      \"properties\": {\n        \"dtype\": \"number\",\n        \"std\": 4.330864176799867,\n        \"min\": 0.0,\n        \"max\": 30.91,\n        \"num_unique_values\": 1301,\n        \"samples\": [\n          20.47,\n          20.46\n        ],\n        \"semantic_type\": \"\",\n        \"description\": \"\"\n      }\n    },\n    {\n      \"column\": \"Total night minutes\",\n      \"properties\": {\n        \"dtype\": \"number\",\n        \"std\": 50.78032336872526,\n        \"min\": 43.7,\n        \"max\": 395.0,\n        \"num_unique_values\": 1444,\n        \"samples\": [\n          143.9,\n          171.8\n        ],\n        \"semantic_type\": \"\",\n        \"description\": \"\"\n      }\n    },\n    {\n      \"column\": \"Total night calls\",\n      \"properties\": {\n        \"dtype\": \"number\",\n        \"std\": 19,\n        \"min\": 33,\n        \"max\": 166,\n        \"num_unique_values\": 118,\n        \"samples\": [\n          126,\n          50\n        ],\n        \"semantic_type\": \"\",\n        \"description\": \"\"\n      }\n    },\n    {\n      \"column\": \"Total night charge\",\n      \"properties\": {\n        \"dtype\": \"number\",\n        \"std\": 2.2851195129157587,\n        \"min\": 1.97,\n        \"max\": 17.77,\n        \"num_unique_values\": 885,\n        \"samples\": [\n          10.28,\n          8.09\n        ],\n        \"semantic_type\": \"\",\n        \"description\": \"\"\n      }\n    },\n    {\n      \"column\": \"Total intl minutes\",\n      \"properties\": {\n        \"dtype\": \"number\",\n        \"std\": 2.7883485770512655,\n        \"min\": 0.0,\n        \"max\": 20.0,\n        \"num_unique_values\": 158,\n        \"samples\": [\n          16.1,\n          6.2\n        ],\n        \"semantic_type\": \"\",\n        \"description\": \"\"\n      }\n    },\n    {\n      \"column\": \"Total intl calls\",\n      \"properties\": {\n        \"dtype\": \"number\",\n        \"std\": 2,\n        \"min\": 0,\n        \"max\": 20,\n        \"num_unique_values\": 21,\n        \"samples\": [\n          3,\n          14\n        ],\n        \"semantic_type\": \"\",\n        \"description\": \"\"\n      }\n    },\n    {\n      \"column\": \"Total intl charge\",\n      \"properties\": {\n        \"dtype\": \"number\",\n        \"std\": 0.7528120531228483,\n        \"min\": 0.0,\n        \"max\": 5.4,\n        \"num_unique_values\": 158,\n        \"samples\": [\n          4.35,\n          1.67\n        ],\n        \"semantic_type\": \"\",\n        \"description\": \"\"\n      }\n    },\n    {\n      \"column\": \"Customer service calls\",\n      \"properties\": {\n        \"dtype\": \"number\",\n        \"std\": 1,\n        \"min\": 0,\n        \"max\": 9,\n        \"num_unique_values\": 10,\n        \"samples\": [\n          6,\n          0\n        ],\n        \"semantic_type\": \"\",\n        \"description\": \"\"\n      }\n    },\n    {\n      \"column\": \"Churn\",\n      \"properties\": {\n        \"dtype\": \"boolean\",\n        \"num_unique_values\": 2,\n        \"samples\": [\n          true,\n          false\n        ],\n        \"semantic_type\": \"\",\n        \"description\": \"\"\n      }\n    }\n  ]\n}"
            }
          },
          "metadata": {},
          "execution_count": 26
        }
      ]
    },
    {
      "cell_type": "code",
      "metadata": {
        "colab": {
          "base_uri": "https://localhost:8080/"
        },
        "id": "RcaZ5qGo55Ry",
        "outputId": "3e806c89-632b-40ed-e8a1-72b3923e15cb"
      },
      "source": [
        "df.info()"
      ],
      "execution_count": 27,
      "outputs": [
        {
          "output_type": "stream",
          "name": "stdout",
          "text": [
            "<class 'pandas.core.frame.DataFrame'>\n",
            "RangeIndex: 2666 entries, 0 to 2665\n",
            "Data columns (total 20 columns):\n",
            " #   Column                  Non-Null Count  Dtype  \n",
            "---  ------                  --------------  -----  \n",
            " 0   State                   2666 non-null   object \n",
            " 1   Account length          2666 non-null   int64  \n",
            " 2   Area code               2666 non-null   int64  \n",
            " 3   International plan      2666 non-null   object \n",
            " 4   Voice mail plan         2666 non-null   object \n",
            " 5   Number vmail messages   2666 non-null   int64  \n",
            " 6   Total day minutes       2666 non-null   float64\n",
            " 7   Total day calls         2666 non-null   int64  \n",
            " 8   Total day charge        2666 non-null   float64\n",
            " 9   Total eve minutes       2666 non-null   float64\n",
            " 10  Total eve calls         2666 non-null   int64  \n",
            " 11  Total eve charge        2666 non-null   float64\n",
            " 12  Total night minutes     2666 non-null   float64\n",
            " 13  Total night calls       2666 non-null   int64  \n",
            " 14  Total night charge      2666 non-null   float64\n",
            " 15  Total intl minutes      2666 non-null   float64\n",
            " 16  Total intl calls        2666 non-null   int64  \n",
            " 17  Total intl charge       2666 non-null   float64\n",
            " 18  Customer service calls  2666 non-null   int64  \n",
            " 19  Churn                   2666 non-null   bool   \n",
            "dtypes: bool(1), float64(8), int64(8), object(3)\n",
            "memory usage: 398.5+ KB\n"
          ]
        }
      ]
    },
    {
      "cell_type": "markdown",
      "metadata": {
        "id": "ry1s_UABGRCw"
      },
      "source": [
        "#### Задание.\n",
        "\n",
        "Подготовьте признаки в обоих датасетах (churn-bigml-80 и churn-bigml-20):\n",
        "- Преобразуйте категориальные признаки\n",
        "- В датасетах есть частный случай категориального признака, а именно признак бинарный. Значения бинарного признака допустимо преобразовать в целое число (0 или 1), для чего можете использовать логические маски в `pandas` и функцию [`astype`](https://pandas.pydata.org/pandas-docs/stable/reference/api/pandas.DataFrame.astype.html). Можете предложить свой вариант.\n",
        "- Создайте тестовую и тренирочную выборки"
      ]
    },
    {
      "cell_type": "code",
      "metadata": {
        "id": "Xa_AUc23YHAv"
      },
      "source": [
        "train_df = pd.read_csv('https://gitlab.7bits.it/coding-garden/coding-garden-ml-data/-/raw/master/data_churn-bigml-80.csv')\n",
        "test_df = pd.read_csv('https://gitlab.7bits.it/coding-garden/coding-garden-ml-data/-/raw/master/data_churn-bigml-20.csv')"
      ],
      "execution_count": 28,
      "outputs": []
    },
    {
      "cell_type": "code",
      "metadata": {
        "id": "yzOwXEq0YG-c"
      },
      "source": [
        "def prepare_features(df):\n",
        "    df_processed = df.copy()\n",
        "\n",
        "    # Преобразование бинарных признаков\n",
        "    binary_features = ['International plan', 'Voice mail plan']\n",
        "    for col in binary_features:\n",
        "        df_processed[col] = (df_processed[col] == 'Yes').astype(int)\n",
        "\n",
        "    # Преобразование категориального признака 'State' в дамми-переменные\n",
        "    df_processed = pd.get_dummies(df_processed, columns=['State'], drop_first=True)\n",
        "\n",
        "    # Преобразование целевой переменной 'Churn' в целочисленный формат\n",
        "    if 'Churn' in df_processed.columns:\n",
        "        df_processed['Churn'] = df_processed['Churn'].astype(int)\n",
        "\n",
        "    # Удаление столбца 'Area code'\n",
        "    df_processed.drop(columns='Area code', inplace=True)\n",
        "\n",
        "    return df_processed"
      ],
      "execution_count": 29,
      "outputs": []
    },
    {
      "cell_type": "code",
      "metadata": {
        "id": "Cc3c45TlYG70"
      },
      "source": [
        "X_train_df = prepare_features(train_df)\n",
        "X_test_df = prepare_features(test_df)\n",
        "\n",
        "y_train = X_train_df['Churn']\n",
        "X_train = X_train_df.drop('Churn', axis=1)\n",
        "\n",
        "y_test = X_test_df['Churn']\n",
        "X_test = X_test_df.drop('Churn', axis=1)"
      ],
      "execution_count": 30,
      "outputs": []
    },
    {
      "cell_type": "code",
      "metadata": {
        "id": "LFclunz4YGqz",
        "outputId": "e8014d92-6b3d-4aca-ce00-4ab40c065788",
        "colab": {
          "base_uri": "https://localhost:8080/"
        }
      },
      "source": [
        "from sklearn.metrics import classification_report\n",
        "from sklearn.tree import DecisionTreeClassifier\n",
        "import numpy as np\n",
        "\n",
        "def decide_class(logits, threshold=0.5):\n",
        "    \"\"\"Применяет порог для преобразования логитов в классы.\"\"\"\n",
        "    return (logits >= threshold).astype(int)\n",
        "\n",
        "# Обучение модели градиентного бустинга\n",
        "gb_model = GradientTreeBoosting(iterations=50, max_depth=3, random_state=42)\n",
        "gb_model.fit(X_train, y_train)\n",
        "gb_pred = decide_class(gb_model.predict(X_test))\n",
        "\n",
        "print(\"Результаты Gradient Boosting:\")\n",
        "print(classification_report(y_test, gb_pred))\n",
        "\n",
        "# Обучение модели дерева решений\n",
        "dt_model = DecisionTreeClassifier(max_depth=3, random_state=42)\n",
        "dt_model.fit(X_train, y_train)\n",
        "dt_pred = dt_model.predict(X_test)\n",
        "\n",
        "print(\"\\nРезультаты Decision Tree:\")\n",
        "print(classification_report(y_test, dt_pred))"
      ],
      "execution_count": 31,
      "outputs": [
        {
          "output_type": "stream",
          "name": "stdout",
          "text": [
            "Результаты Gradient Boosting:\n",
            "              precision    recall  f1-score   support\n",
            "\n",
            "           0       0.96      0.95      0.96       572\n",
            "           1       0.72      0.76      0.74        95\n",
            "\n",
            "    accuracy                           0.92       667\n",
            "   macro avg       0.84      0.85      0.85       667\n",
            "weighted avg       0.93      0.92      0.92       667\n",
            "\n",
            "\n",
            "Результаты Decision Tree:\n",
            "              precision    recall  f1-score   support\n",
            "\n",
            "           0       0.92      0.99      0.95       572\n",
            "           1       0.86      0.52      0.64        95\n",
            "\n",
            "    accuracy                           0.92       667\n",
            "   macro avg       0.89      0.75      0.80       667\n",
            "weighted avg       0.92      0.92      0.91       667\n",
            "\n"
          ]
        }
      ]
    },
    {
      "cell_type": "markdown",
      "metadata": {
        "id": "eBktZHUJBRgp"
      },
      "source": [
        "Здесь я немного помогу Вам. Функция `test_qual` позволяет проверить качество классификации без лишних телодвижений. Воспользуйтесь ей (если хотите, можете модифицировать как Вам удобно). В исходном виде она не подойдёт для финальной проверки (на разных датасетах), но вы можете сделать промежуточные выводы на её основе."
      ]
    },
    {
      "cell_type": "code",
      "metadata": {
        "id": "UB9ICK9v5UYB"
      },
      "source": [
        "def decide_class(logits, threshold=0.5):\n",
        "    res = np.zeros(logits.shape[0])\n",
        "    res[logits >= threshold] = 1\n",
        "    return res\n",
        "\n",
        "def test_qual(model, X, y, test_size=0.2, threshold=0.5):\n",
        "    from sklearn.metrics import r2_score, mean_squared_error, accuracy_score, classification_report\n",
        "    from sklearn.model_selection import train_test_split\n",
        "\n",
        "    X_train, X_test, y_train, y_test = train_test_split(X, y, test_size=test_size, shuffle=True, random_state=42)\n",
        "\n",
        "    model.fit(X_train, y_train)\n",
        "    test_logits = model.predict(X_test)\n",
        "    y_pred = decide_class(test_logits, threshold=threshold)\n",
        "\n",
        "    # print(accuracy_score(y_test, y_pred))\n",
        "    print(classification_report(y_test, y_pred))"
      ],
      "execution_count": 32,
      "outputs": []
    },
    {
      "cell_type": "code",
      "metadata": {
        "colab": {
          "base_uri": "https://localhost:8080/"
        },
        "id": "_y3HPDdaD1XC",
        "outputId": "86dd8d18-1c15-4039-d1fd-3f73fd77a9ea"
      },
      "source": [
        "from sklearn.metrics import classification_report\n",
        "\n",
        "model = GradientTreeBoosting(random_state=42, max_depth=3)\n",
        "\n",
        "model.fit(X_test, y_test)\n",
        "y_pred = decide_class(model.predict(X_train))\n",
        "print(classification_report(y_pred, y_train))"
      ],
      "execution_count": 33,
      "outputs": [
        {
          "output_type": "stream",
          "name": "stdout",
          "text": [
            "              precision    recall  f1-score   support\n",
            "\n",
            "         0.0       0.96      0.93      0.95      2350\n",
            "         1.0       0.59      0.72      0.65       316\n",
            "\n",
            "    accuracy                           0.91      2666\n",
            "   macro avg       0.78      0.83      0.80      2666\n",
            "weighted avg       0.92      0.91      0.91      2666\n",
            "\n"
          ]
        }
      ]
    },
    {
      "cell_type": "code",
      "metadata": {
        "colab": {
          "base_uri": "https://localhost:8080/"
        },
        "id": "MtIrrj5c-p9q",
        "outputId": "a285c273-bffd-4860-de6a-ccc4634926ff"
      },
      "source": [
        "test_qual(GradientTreeBoosting(random_state=42, max_depth=3), X_train, y_train)"
      ],
      "execution_count": 34,
      "outputs": [
        {
          "output_type": "stream",
          "name": "stdout",
          "text": [
            "              precision    recall  f1-score   support\n",
            "\n",
            "           0       0.94      0.98      0.96       455\n",
            "           1       0.84      0.66      0.74        79\n",
            "\n",
            "    accuracy                           0.93       534\n",
            "   macro avg       0.89      0.82      0.85       534\n",
            "weighted avg       0.93      0.93      0.93       534\n",
            "\n"
          ]
        }
      ]
    },
    {
      "cell_type": "code",
      "metadata": {
        "colab": {
          "base_uri": "https://localhost:8080/"
        },
        "id": "WJTwNIsN-vkm",
        "outputId": "3e43d84c-4245-4b33-8f54-9e2f6e5b5612"
      },
      "source": [
        "test_qual(DecisionTreeRegressor(random_state=42, max_depth=3), X_train, y_train)"
      ],
      "execution_count": 35,
      "outputs": [
        {
          "output_type": "stream",
          "name": "stdout",
          "text": [
            "              precision    recall  f1-score   support\n",
            "\n",
            "           0       0.91      0.99      0.95       455\n",
            "           1       0.89      0.42      0.57        79\n",
            "\n",
            "    accuracy                           0.91       534\n",
            "   macro avg       0.90      0.70      0.76       534\n",
            "weighted avg       0.91      0.91      0.89       534\n",
            "\n"
          ]
        }
      ]
    },
    {
      "cell_type": "code",
      "metadata": {
        "colab": {
          "base_uri": "https://localhost:8080/"
        },
        "id": "JxpOc-T5BDIl",
        "outputId": "f56e6446-4b70-48da-ae6d-40c9325b4aef"
      },
      "source": [
        "from sklearn.tree import DecisionTreeClassifier\n",
        "test_qual(DecisionTreeClassifier(random_state=42, max_depth=3), X_train, y_train)"
      ],
      "execution_count": 36,
      "outputs": [
        {
          "output_type": "stream",
          "name": "stdout",
          "text": [
            "              precision    recall  f1-score   support\n",
            "\n",
            "           0       0.91      0.99      0.95       455\n",
            "           1       0.89      0.42      0.57        79\n",
            "\n",
            "    accuracy                           0.91       534\n",
            "   macro avg       0.90      0.70      0.76       534\n",
            "weighted avg       0.91      0.91      0.89       534\n",
            "\n"
          ]
        }
      ]
    }
  ]
}