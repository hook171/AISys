{
  "cells": [
    {
      "cell_type": "markdown",
      "metadata": {
        "id": "dCa_iHnPOnso"
      },
      "source": [
        "### Линейная регрессия\n",
        "является методом машинного обучения, позволяющим прогнозировать значение количественного признака в виде линейной комбинации нецелевых принаков с коэффициентами $w$ модели.\n",
        "\n",
        "Более формально это формулируется так:  \n",
        "Пусть есть некоторый целевой признак $y$, и известные признаки $X = [x_1, x_2, ... , x_n]$. Тогда предсказать значение $y$ можно с помощью вычисления следующего выражения:\n",
        "\n",
        "$$\n",
        "y = w_0 + \\sum_{i=1}^{m} {w_i x_i} \\tag{1}\n",
        "$$\n",
        "\n",
        "При этом от свободного коэффициента $w_0$ можно избавиться, если к признакам $X$ добавить фиктивный константный \"признак\", равный единице: $X = [1, x_1, x_2, ... , x_n]$.\n",
        "В таком случае формулу $(1)$ можно переписать:\n",
        "\n",
        "$$\n",
        "y = \\sum_{i=0}^{m} {w_i x_i}, \\tag{2}\n",
        "$$   \n",
        "\n",
        "Можно представить формулу $(2)$ в матричном виде, полагая, что $X$ - матрица объектов-признаков, $y$ - вектор столбец целевой переменной, а $w$ - вектор-столбец коэффициентов, получим\n",
        "\n",
        "$$\n",
        "\\overrightarrow{y} = X \\overrightarrow{w} \\tag{3}\n",
        "$$\n",
        "\n",
        "\n",
        "\n"
      ]
    },
    {
      "cell_type": "markdown",
      "metadata": {
        "id": "ayzTbwNeOnsx"
      },
      "source": [
        "### Поиск параметров\n",
        "Очевидно, что в уравнениях $(1 - 3)$ нам известны значения $X$ и $y$ - это константы в некотором роде, так как это обучающая выборка. Чтобы подобрать значения коэффициентов (они же веса) $w$, нам необходима функция ошибки (loss-функция). Выглядит она следующим образом:\n",
        "\n",
        "$$\n",
        "MSE\\left(\\overline{y}, y\\right) = \\frac{1}{n} \\sum_{i=0}^{n} {\\left(\\overline{y_i} - y_i\\right)^2}, \\tag{4}\n",
        "\\\\\n",
        "$$\n",
        "$$\n",
        "MSE(X, w_0, ... , w_1, y) = \\frac{1}{n} \\sum_{i=1}^{n} {\\left(w_0 + w_1 x_1 + ... + w_n x_n - y_i \\right)^2} \\tag{5}\n",
        "$$\n",
        "\n",
        "Функция ошибки позволяет оценить точность модели в числовом виде - чем меньше ее значение, тем выше точность модели."
      ]
    },
    {
      "cell_type": "markdown",
      "metadata": {
        "id": "itJSjAsHOnsy"
      },
      "source": [
        "### Градиентный спуск\n",
        "\n",
        "Очевидно, что значение функции ошибки зависит от весов модели, которую мы оцениваем. Соответсвенно задача состоит в том, чтобы найти такие значения весов, при котором значение функции ошибки будет минимальным.\n",
        "\n",
        "Есть несколько способов минимизации функций нескольких переменных, но мы остановимся на градиентом спуске."
      ]
    },
    {
      "cell_type": "markdown",
      "metadata": {
        "id": "3aCk1Xs-Onsy"
      },
      "source": [
        "#### Градиент\n",
        "Уравнение линейной регрессии завит от нескольких переменных (если число признаков больше одного), соответсвенно мы имеем дело с функцией нескольких переменных. Градиент такой функции - это вектор частных производных:\n",
        "$$\n",
        "\\nabla{y(w_0, w_1, ... , w_n)} = \\left({\\frac{\\partial y}{\\partial w_0}}, {\\frac{\\partial y}{\\partial w_1}}, ... , {\\frac{\\partial y}{\\partial w_n}} \\right)^T \\tag{6}\n",
        "$$\n",
        "указывающий направление наискорейшего _роста_ функции\n",
        "\n",
        "Но нам нужен градиент функции ошибки. В формуле $(6)$ мы привели пример градиента обычной функции, но, нам собственно нужен не он, а градинет $MSE$.  \n",
        "В формулах $(4)$ и $(5)$ мы вывели уравнения функции ошибки для индивидуальных весов, и для матрицы, соответсвенно в формулах ниже мы рассчитаем градиенты так же для двух случаев:\n",
        "\n",
        "\n",
        "$$\n",
        "\\mathcal{L} = MSE(w_0, w_1, ... , w_n), \\tag{7}\\\\\n",
        "\\frac{\\partial\\mathcal{L}}{\\partial w_0} = \\frac{2}{n} \\sum_{i=1}^{n} {\\left(w_0 + w_1 x_1 + ... + w_n x_n - y_i\\right)}, \\\\\n",
        "\\frac{\\partial\\mathcal{L}}{\\partial w_j} = \\frac{2}{n} \\sum_{i=1}^{n} {x_j \\left(w_0 + w_1 x_1 + ... + w_n x_n - y_i\\right)},\\ j \\in \\{1, \\dots , n\\}\n",
        "$$\n",
        "$$\n",
        "\\mathcal{L} = MSE(\\overrightarrow{w}), \\tag{8} \\\\\n",
        "\\frac{\\partial\\mathcal{L}}{\\partial W_j} = \\frac{2}{n} \\sum_{i=1}^{n} {x_i^j \\left(\\overline{y}_i - y_i\\right)}\n",
        "$$\n"
      ]
    },
    {
      "cell_type": "markdown",
      "metadata": {
        "id": "I1h_G7SoOnsz"
      },
      "source": [
        "Идея **градиентного спуска** заключается в том, чтобы, двигаясь вдоль подсичтанного градиента функции, найти ее минимум или максимум. Как вы читали выше, градиент это направление _роста_ функции, но так как мы хотим найти минимум, то мы будем двигаться в направлении антиградиента, то есть убывания функции.\n",
        "\n",
        "Собственно, уравнение выглядит вот таким образом:\n",
        "\n",
        "$$\n",
        "w_{i+1} = w_i - learning\\ rate * \\nabla{f(w_i)}\n",
        "$$\n",
        "\n",
        "Для того чтобы вычислить значение на следующем шаге, нужно от текущего значения вычесть значение градиента на текущем шаге, умноженное на _шаг_ градиентного спуска $learning\\ rate$.\n",
        "\n",
        "Параметры для начального значения $w$ и $learning\\ rate$ подбираются эмпирически - заранее нельзя знать оптимального их значения.\n",
        "\n",
        "В нашем случае значение $\\nabla{f}$ зависит от того, через что вы предпочтете задавать веса - через матрицу или через отдельные значения.\n",
        "\n",
        "\n"
      ]
    },
    {
      "cell_type": "markdown",
      "metadata": {
        "id": "5u1AFYowOns0"
      },
      "source": [
        "Реализуем простой пример линейной регрессии, с одной зависимой переменной У, и одной независимой переменной х.  \n",
        "Создадим данные. Зависимость будет такой: $y = 2 * x + 10$\n",
        "\n",
        "**Hint**\n",
        "- [np.arange](https://numpy.org/doc/stable/reference/generated/numpy.arange.html)\n",
        "- Особенность сложения массивов в питоне:\n",
        "`[1] + [2,3,4] --> [1,2,3,4]`, `[1,2,3] + [4] --> [1,2,3,4]`"
      ]
    },
    {
      "cell_type": "code",
      "execution_count": 106,
      "metadata": {
        "colab": {
          "base_uri": "https://localhost:8080/",
          "height": 430
        },
        "id": "wRr9_pDIOns0",
        "outputId": "8050cad9-7427-4407-835b-27df8e3eb3e9"
      },
      "outputs": [
        {
          "output_type": "display_data",
          "data": {
            "text/plain": [
              "<Figure size 640x480 with 1 Axes>"
            ],
            "image/png": "[encoded data removed]"
          },
          "metadata": {}
        }
      ],
      "source": [
        "import numpy as np\n",
        "import matplotlib.pyplot as plt\n",
        "%matplotlib inline\n",
        "\n",
        "x = np.array([[x] for x in np.arange(0.0, 6.0, 0.5)])\n",
        "y = np.array([[2*x[0] + 10] for x in x.tolist()])\n",
        "\n",
        "plt.scatter(x, y)\n",
        "plt.show()"
      ]
    },
    {
      "cell_type": "markdown",
      "metadata": {
        "id": "s2prAoeQOns2"
      },
      "source": [
        "Сейчас у нас строго *линейная зависимость*. Добавим немного шума, используя метод `np.random.rand`\n",
        "\n",
        "Воспользуемся `np.random.seed(someNumber)`, чтобы зафиксировать случайность и получать при перезапуске ячейки\n",
        "стабильный результат.\n",
        "\n",
        "**Hint**\n",
        "- [Доки по np.random](https://docs.scipy.org/doc/numpy-1.15.0/reference/routines.random.html)"
      ]
    },
    {
      "cell_type": "code",
      "execution_count": 107,
      "metadata": {
        "colab": {
          "base_uri": "https://localhost:8080/",
          "height": 430
        },
        "id": "qI1ar2b0Ons3",
        "outputId": "35e8a839-7c66-404d-fd33-8fca72f2a7ad"
      },
      "outputs": [
        {
          "output_type": "display_data",
          "data": {
            "text/plain": [
              "<Figure size 640x480 with 1 Axes>"
            ],
            "image/png": "[encoded data removed]"
          },
          "metadata": {}
        }
      ],
      "source": [
        "np.random.seed(42)\n",
        "\n",
        "x = np.array([[x] for x in np.arange(0.0, 6.0, 0.5)])\n",
        "y = np.array([[2*x[0] + 10 + np.random.rand()*3] for x in x.tolist()])\n",
        "plt.scatter(x, y)\n",
        "plt.show()"
      ]
    },
    {
      "cell_type": "code",
      "execution_count": 108,
      "metadata": {
        "colab": {
          "base_uri": "https://localhost:8080/"
        },
        "id": "uIqQu1cgOns3",
        "outputId": "e018f710-74db-4402-92a2-e747d31d9022"
      },
      "outputs": [
        {
          "output_type": "stream",
          "name": "stdout",
          "text": [
            "[[0. ]\n",
            " [0.5]\n",
            " [1. ]\n",
            " [1.5]\n",
            " [2. ]\n",
            " [2.5]\n",
            " [3. ]\n",
            " [3.5]\n",
            " [4. ]\n",
            " [4.5]\n",
            " [5. ]\n",
            " [5.5]]\n",
            "[[11.12362036]\n",
            " [13.85214292]\n",
            " [14.19598183]\n",
            " [14.79597545]\n",
            " [14.46805592]\n",
            " [15.46798356]\n",
            " [16.17425084]\n",
            " [19.59852844]\n",
            " [19.80334504]\n",
            " [21.12421773]\n",
            " [20.06175348]\n",
            " [23.90972956]]\n"
          ]
        }
      ],
      "source": [
        "# Посмотрим на сами данные\n",
        "print(x)\n",
        "print(y)"
      ]
    },
    {
      "cell_type": "code",
      "execution_count": 109,
      "metadata": {
        "colab": {
          "base_uri": "https://localhost:8080/",
          "height": 451
        },
        "id": "Y9ntdJ6tOns4",
        "outputId": "2f8de089-7e88-4d3d-dd4b-c1885b947a3d"
      },
      "outputs": [
        {
          "output_type": "execute_result",
          "data": {
            "text/plain": [
              "[<matplotlib.lines.Line2D at 0x7d4421a5aa50>]"
            ]
          },
          "metadata": {},
          "execution_count": 109
        },
        {
          "output_type": "display_data",
          "data": {
            "text/plain": [
              "<Figure size 640x480 with 1 Axes>"
            ],
            "image/png": "[encoded data removed]"
          },
          "metadata": {}
        }
      ],
      "source": [
        "# Объявим параметры: веса и шаг градиентного спуска\n",
        "\n",
        "w0 = np.random.rand()\n",
        "w1 = np.random.rand()\n",
        "step = 0.008\n",
        "\n",
        "# Как видно, случайно инициализированные веса не очень хорошо приблизили линейную зависимость.\n",
        "# Точнее вообще никак не приблизили\n",
        "plt.scatter(x, y)\n",
        "plt.plot(x, x*w1 + w0, c='red')"
      ]
    },
    {
      "cell_type": "markdown",
      "metadata": {
        "id": "mHSVCnC3Ons4"
      },
      "source": [
        "Скажем пару слов о графиках. Вы наверное уже поняли, что для двумерного графика нужно задать значения по осям `x` и `y` в виде массива. Есть дополнительный аргумент `c`, отвечающий за цвет элементов на графике.  \n",
        "Собственно, теперь о типах графиков.  \n",
        "`scatter` рисует точечную диаграмму, где парам элементов из `x` и `y` будет соответсвовать точка на плоскости.  \n",
        "`plot` просто рисует линию по заданным точкам."
      ]
    },
    {
      "cell_type": "code",
      "execution_count": 110,
      "metadata": {
        "colab": {
          "base_uri": "https://localhost:8080/",
          "height": 447
        },
        "id": "Bu6TgWHiUvNZ",
        "outputId": "38aa05b4-a260-4ea3-e24b-1f8d36e39e90"
      },
      "outputs": [
        {
          "output_type": "execute_result",
          "data": {
            "text/plain": [
              "[<matplotlib.lines.Line2D at 0x7d4421876f90>]"
            ]
          },
          "metadata": {},
          "execution_count": 110
        },
        {
          "output_type": "display_data",
          "data": {
            "text/plain": [
              "<Figure size 640x480 with 2 Axes>"
            ],
            "image/png": "[encoded data removed]"
          },
          "metadata": {}
        }
      ],
      "source": [
        "# Это может быть прямая, может быть ломаная линии:\n",
        "\n",
        "plt.subplot(2, 1, 1)\n",
        "plt.plot(x, 2*x + 10)\n",
        "\n",
        "plt.subplot(2,1,2)\n",
        "plt.plot(x, y)"
      ]
    },
    {
      "cell_type": "code",
      "execution_count": 111,
      "metadata": {
        "colab": {
          "base_uri": "https://localhost:8080/",
          "height": 447
        },
        "id": "gm_uK0N4Ons4",
        "outputId": "68119d05-e83e-420e-c78d-86c683095416"
      },
      "outputs": [
        {
          "output_type": "execute_result",
          "data": {
            "text/plain": [
              "(4.240464278387851, 3.1314323370502537)"
            ]
          },
          "metadata": {},
          "execution_count": 111
        },
        {
          "output_type": "display_data",
          "data": {
            "text/plain": [
              "<Figure size 640x480 with 1 Axes>"
            ],
            "image/png": "[encoded data removed]"
          },
          "metadata": {}
        }
      ],
      "source": [
        "# Реализуем само обучение\n",
        "# Число шагов для обучения установим в 30\n",
        "\n",
        "for i in range(30):\n",
        "\n",
        "    # Предсказание\n",
        "    pred = x*w1 + w0\n",
        "\n",
        "    # MSE-loss\n",
        "    loss = np.sum((y - pred)**2)/x.shape[0]\n",
        "\n",
        "    # шаг для каждого из весов\n",
        "    w1 = w1 - step*np.sum((pred - y) * x) * 2 / x.shape[0]\n",
        "    w0 = w0 - step*np.sum(pred - y) * 2 / x.shape[0]\n",
        "\n",
        "    # Критерий остановки обучения:\n",
        "    # разница между значениями MSE меньше, чем на 0.01\n",
        "    # Вычтем из старого значения лосс-функции новое, полученное уже после обновления весов.\n",
        "    if np.abs(loss - np.sum((x*w1 + w0 - y)**2) / x.shape[0]) < 0.01:\n",
        "        print(loss)\n",
        "        break\n",
        "\n",
        "\n",
        "# Теперь красная линия приближает данные лучше.\n",
        "plt.scatter(x, y)\n",
        "plt.plot(x, x*w1 + w0, c='red')\n",
        "\n",
        "w1, w0"
      ]
    },
    {
      "cell_type": "markdown",
      "metadata": {
        "id": "vcVGHj_qOns5"
      },
      "source": [
        "### Классы в Python\n",
        "\n",
        "Класс в питоне в целом является таким же классом, с какими вы знакомились в рамках изучения C++ или любого другого языка - это собственный тип, или набор полей с методами доступа к ним и их обработки.\n",
        "\n",
        "Например, фрагмент простого класса 'число' с методом сложения выглядит так:\n",
        "```python\n",
        "class Number:    \n",
        "    def __init__(self, num):\n",
        "        self._body = num\n",
        "\n",
        "    def add(self, num2):\n",
        "        res = self._body + num2._body\n",
        "        \n",
        "        return Number(res)\n",
        "```\n",
        "\n",
        "Использование:\n",
        "```python\n",
        "n1 = Number(1)\n",
        "n2 = Number(2)\n",
        "\n",
        "n3 = n1.add(n2)\n",
        "# доступ к полю _body\n",
        "n3._body\n",
        "```\n",
        "На что тут важно обратить внимание?  \n",
        "\n",
        "- **Доступ к полям и методам** класса осуществляется через оператор 'точка': `.`.\n",
        "\n",
        "- По настоящему **приватных** методов и переменных в питоне нет, но есть специальное соглашение об именовании таких переменных и функций - используйте `_` перед именем переменной или метода. Таким образом, переменная `_body` является 'приватной' для класса `Number`.  \n",
        "\n",
        "- Методы класса имеют **параметр `self`** на первом месте. Это говорит о том, что функция работает с экземпляром класса, внутри которого была создана. В нашем примере с числом компилятором подразумевается, что `self` в методе `add` - это такой же класс `Number`.\n",
        "\n",
        "    Рассмотрим это подробнее:  \n",
        "    При использовании метода обычно пишут так -  \n",
        "    `экземпляр.метод(аргументы)`.  \n",
        "\n",
        "    При создании метода пишется так -   \n",
        "    `def метод(экземпляр, аргументы)`, то есть `self` на первом месте обозначает тот экземпляр класса, для которого будет вызван метод.\n",
        "    \n",
        "    Понятно, что `self` является зарезервированным словом (терминальным символом) языка, и, написав, например, `def add(NumberClass, num2)` вы не получите метод, работающий с экземпляром класса - вы получите просто метод, опредлененный внутри класса и требующий для работы два аргумента.\n",
        "\n",
        "\n",
        "- **Деструкторов** для класса в питоне нет, конструктор объявляется как `__init__(self, ...)`. Конструтор у класса может быть только один, создавать несколько конструкторов (как в `java`, например) нельзя.\n",
        "\n",
        "- **Поля _экземпляра_ класса** создаются так: `self.MyClassField = 2`  \n",
        "  Поля _экземпляра_ класса можно создавать только в _методах_ класса.    \n",
        "  Модификатор `self` играет тут ту же роль, что и в аргументе функции: так мы явно говорим, что переменная `myClassField` не является локальной, а является переменной экземпляра класса.\n",
        "  \n",
        "  Если же говорить о **_полях класса_**, то они создаются внутри области видимости _класса_, например в примере ниже `var1` - это переменная класса, а `var2` - переменная _экземпляра_ класса.\n",
        "  ```python\n",
        "    class MyClass:\n",
        "        var1 = 45\n",
        "        \n",
        "        def __init__(self, var2_value):\n",
        "            self.var2 = var2_value\n",
        "  ```\n",
        "  Если кратко поговорить об отличиях, то значение переменной _экземпляра_ класса уникально для каждого объекта класса, а значение переменной класса константно для всех объектов такого класса. [Подробнее про это можете почитать тут](https://www.toptal.com/python/python-class-attributes-an-overly-thorough-guide).\n",
        "\n",
        "\n",
        "[Подробнее про классы в питоне, их сравнение с классами из Java можно прочитать в этой статье](https://habr.com/ru/post/455796/)\n",
        "\n",
        "В этой справке мы не затронули тему перегрузки операторов класса, так как пока что, для выполнения заданий, это вам не понадобится. Тем не менее, можете почитать про это (необязательно!) [в статье](https://habr.com/ru/post/186608/)"
      ]
    },
    {
      "cell_type": "markdown",
      "metadata": {
        "id": "KiPYH8FYOns8"
      },
      "source": [
        "### Задание\n",
        "Реализовать модели линейной регрессии в виде класса, способного работать как с одномерным набором признаков(как в примере выше), так и с многомерным (когда у нас есть x_1, x_2 и тд).  \n",
        "Веса желательно задать в виде вектора, X преобразовать, добавив в начало единицу (см. теорию).  \n",
        "Используйте возможности библиотеки numpy (например, при использовании матриц, пользуйтесь [np.dot](https://numpy.org/doc/stable/reference/generated/numpy.dot.html), [np.transpose](https://numpy.org/doc/stable/reference/generated/numpy.transpose.html)).\n",
        "\n",
        "**Учтите**, что признаки - это `numpy`-массивы:  таблицы с данными легко превратить в numpy-массив (это вы увидите позже), а сами по себе такие массивы удобнее, чем стандартные питоновские списки, в первую очередь за счет того, что\n",
        "- numpy быстрее, чем питон, так как под капотом написан на C,\n",
        "- в библиотеке реализовано множество полезных методов, в чем вы уже могли убедиться.\n",
        "\n",
        "Сигнатура класса, который должен у вас получиться:\n",
        "```python\n",
        "class linReg:\n",
        "    def __init__(self, lr = 0.0001, iters = 5000):\n",
        "        self.lr = lr\n",
        "        self.iters = iters\n",
        "\n",
        "    def fit(self, x, y):\n",
        "        pass\n",
        "    \n",
        "    def predict(self, x):\n",
        "        pass\n",
        "```\n",
        "Методы `fit` и `predict` обязательны к реализации, но если у вас появятся какие-нибудь специализированные методы, можете вынести их в приватные методы класса."
      ]
    },
    {
      "cell_type": "markdown",
      "metadata": {
        "id": "D8oCR58zOntA"
      },
      "source": [
        "**_В ячейках ниже напишите саму реализацию._**  \n",
        "**Помните**, что все ячейки в Colab имееют общую область видимости."
      ]
    },
    {
      "cell_type": "code",
      "execution_count": 112,
      "metadata": {
        "id": "-I4-IcK5OntB"
      },
      "outputs": [],
      "source": [
        "import numpy as np\n",
        "\n",
        "class linReg:\n",
        "    def __init__(self, lr=0.0001, iters=5000):\n",
        "        self.lr = lr  # Скорость обучения\n",
        "        self.iters = iters  # Количество итераций\n",
        "        self.weights = None  # Веса модели\n",
        "        self.bias = None  # Смещение\n",
        "\n",
        "    def fit(self, X, y):\n",
        "        # Добавляем столбец из единиц для учета смещения (bias)\n",
        "        X = np.insert(X, 0, 1, axis=1)\n",
        "\n",
        "        # Инициализация весов\n",
        "        n_features = X.shape[1]\n",
        "        self.weights = np.zeros(n_features)\n",
        "\n",
        "        # Градиентный спуск\n",
        "        for _ in range(self.iters):\n",
        "            # Предсказание\n",
        "            y_pred = np.dot(X, self.weights)\n",
        "\n",
        "            # Вычисление градиента\n",
        "            error = y_pred - y\n",
        "            gradient = np.dot(X.T, error) / len(y)\n",
        "\n",
        "            # Обновление весов\n",
        "            self.weights -= self.lr * gradient\n",
        "\n",
        "    def predict(self, X):\n",
        "        # Добавляем столбец из единиц для учета смещения (bias)\n",
        "        X = np.insert(X, 0, 1, axis=1)\n",
        "        return np.dot(X, self.weights)"
      ]
    },
    {
      "cell_type": "markdown",
      "metadata": {
        "id": "CRU6h53vOntC"
      },
      "source": [
        "В ячейке ниже протестируем работу вашей реализации.  \n",
        "В переменной `linRegInstance` создается экземпляр класса `LinReg`, в конструкторе которого задаются параметры.  \n",
        "В следующей строке для созданного экземпляра вызвается метод `fit`, которому передаются тренировочные данные и который выполняет обучение модели, то есть находит оптимальные веса.  \n",
        "В переменную `pred` сохраняется предсказание."
      ]
    },
    {
      "cell_type": "code",
      "execution_count": 113,
      "metadata": {
        "colab": {
          "base_uri": "https://localhost:8080/",
          "height": 447
        },
        "id": "8GKZpH7FOntC",
        "outputId": "fafdc276-9873-47af-f5b0-3e0b3b97f022"
      },
      "outputs": [
        {
          "output_type": "execute_result",
          "data": {
            "text/plain": [
              "[<matplotlib.lines.Line2D at 0x7d4421b26ed0>]"
            ]
          },
          "metadata": {},
          "execution_count": 113
        },
        {
          "output_type": "display_data",
          "data": {
            "text/plain": [
              "<Figure size 640x480 with 1 Axes>"
            ],
            "image/png": "[encoded data removed]"
          },
          "metadata": {}
        }
      ],
      "source": [
        "# Checking on example data dataset\n",
        "\n",
        "from sklearn.datasets import make_regression\n",
        "from matplotlib import pyplot as plt\n",
        "np.random.seed(42)\n",
        "\n",
        "linRegInstance = linReg(iters=3000, lr=0.001)\n",
        "linRegInstance.fit(x, y.reshape(12))\n",
        "pred = linRegInstance.predict(x)\n",
        "\n",
        "plt.scatter(x, y)\n",
        "plt.plot(x, pred, c='red')\n"
      ]
    },
    {
      "cell_type": "code",
      "execution_count": 114,
      "metadata": {
        "id": "5m-ALevrOntD"
      },
      "outputs": [],
      "source": [
        "# Проверим размерности\n",
        "assert pred.shape == np.array(y.reshape(12)).shape"
      ]
    },
    {
      "cell_type": "markdown",
      "metadata": {
        "id": "wOov9LCKPQ82"
      },
      "source": [
        "### Проверка на реальном датасете"
      ]
    },
    {
      "cell_type": "markdown",
      "metadata": {
        "id": "bchoZLFaOntD"
      },
      "source": [
        "Загрузим датасет с [прокатами велосипедов](https://www.kaggle.com/c/bike-sharing-demand/data).\n",
        "\n",
        "Попробуем решить задачу регрессии, и предсказать число прокатов в зависимости от погоды.  \n",
        "Описание всех признаков:  \n",
        "\n",
        "```\n",
        "season: 1 - весна, 2 - лето, 3 - осень, 4 - зима\n",
        "yr: 0 - 2011, 1 - 2012\n",
        "mnth: от 1 до 12\n",
        "holiday: 0 - нет праздника, 1 - есть праздник\n",
        "weekday: от 0 до 6\n",
        "workingday: 0 - нерабочий день, 1 - рабочий день\n",
        "weathersit: оценка благоприятности погоды от 1 (чистый, ясный день) до 4 (ливень, туман)\n",
        "temp: температура в Цельсиях\n",
        "atemp: температура по ощущениям в Цельсиях\n",
        "hum: влажность\n",
        "windspeed(mph): скорость ветра в милях в час\n",
        "windspeed(ms): скорость ветра в метрах в секунду\n",
        "cnt: количество арендованных велосипедов (это целевой признак, его мы будем предсказывать)\n",
        "```\n",
        "\n",
        "Предсказывать мы будем `cnt`, все остальные значения - нецелевые."
      ]
    },
    {
      "cell_type": "code",
      "execution_count": 115,
      "metadata": {
        "colab": {
          "base_uri": "https://localhost:8080/",
          "height": 206
        },
        "id": "nHu7jjXdOntD",
        "outputId": "958c5ac2-6684-4454-fbfd-f9d909948822"
      },
      "outputs": [
        {
          "output_type": "execute_result",
          "data": {
            "text/plain": [
              "   season  yr  mnth  holiday  weekday  workingday  weathersit       temp  \\\n",
              "0       1   0     1        0        6           0           2  14.110847   \n",
              "1       1   0     1        0        0           0           2  14.902598   \n",
              "2       1   0     1        0        1           1           1   8.050924   \n",
              "3       1   0     1        0        2           1           1   8.200000   \n",
              "4       1   0     1        0        3           1           1   9.305237   \n",
              "\n",
              "      atemp      hum  windspeed(mph)  windspeed(ms)   cnt  \n",
              "0  18.18125  80.5833       10.749882       4.805490   985  \n",
              "1  17.68695  69.6087       16.652113       7.443949   801  \n",
              "2   9.47025  43.7273       16.636703       7.437060  1349  \n",
              "3  10.60610  59.0435       10.739832       4.800998  1562  \n",
              "4  11.46350  43.6957       12.522300       5.597810  1600  "
            ],
            "text/html": [
              "\n",
              "  <div id=\"df-c815356e-6812-4ece-997a-b0c9da24bf3b\" class=\"colab-df-container\">\n",
              "    <div>\n",
              "<style scoped>\n",
              "    .dataframe tbody tr th:only-of-type {\n",
              "        vertical-align: middle;\n",
              "    }\n",
              "\n",
              "    .dataframe tbody tr th {\n",
              "        vertical-align: top;\n",
              "    }\n",
              "\n",
              "    .dataframe thead th {\n",
              "        text-align: right;\n",
              "    }\n",
              "</style>\n",
              "<table border=\"1\" class=\"dataframe\">\n",
              "  <thead>\n",
              "    <tr style=\"text-align: right;\">\n",
              "      <th></th>\n",
              "      <th>season</th>\n",
              "      <th>yr</th>\n",
              "      <th>mnth</th>\n",
              "      <th>holiday</th>\n",
              "      <th>weekday</th>\n",
              "      <th>workingday</th>\n",
              "      <th>weathersit</th>\n",
              "      <th>temp</th>\n",
              "      <th>atemp</th>\n",
              "      <th>hum</th>\n",
              "      <th>windspeed(mph)</th>\n",
              "      <th>windspeed(ms)</th>\n",
              "      <th>cnt</th>\n",
              "    </tr>\n",
              "  </thead>\n",
              "  <tbody>\n",
              "    <tr>\n",
              "      <th>0</th>\n",
              "      <td>1</td>\n",
              "      <td>0</td>\n",
              "      <td>1</td>\n",
              "      <td>0</td>\n",
              "      <td>6</td>\n",
              "      <td>0</td>\n",
              "      <td>2</td>\n",
              "      <td>14.110847</td>\n",
              "      <td>18.18125</td>\n",
              "      <td>80.5833</td>\n",
              "      <td>10.749882</td>\n",
              "      <td>4.805490</td>\n",
              "      <td>985</td>\n",
              "    </tr>\n",
              "    <tr>\n",
              "      <th>1</th>\n",
              "      <td>1</td>\n",
              "      <td>0</td>\n",
              "      <td>1</td>\n",
              "      <td>0</td>\n",
              "      <td>0</td>\n",
              "      <td>0</td>\n",
              "      <td>2</td>\n",
              "      <td>14.902598</td>\n",
              "      <td>17.68695</td>\n",
              "      <td>69.6087</td>\n",
              "      <td>16.652113</td>\n",
              "      <td>7.443949</td>\n",
              "      <td>801</td>\n",
              "    </tr>\n",
              "    <tr>\n",
              "      <th>2</th>\n",
              "      <td>1</td>\n",
              "      <td>0</td>\n",
              "      <td>1</td>\n",
              "      <td>0</td>\n",
              "      <td>1</td>\n",
              "      <td>1</td>\n",
              "      <td>1</td>\n",
              "      <td>8.050924</td>\n",
              "      <td>9.47025</td>\n",
              "      <td>43.7273</td>\n",
              "      <td>16.636703</td>\n",
              "      <td>7.437060</td>\n",
              "      <td>1349</td>\n",
              "    </tr>\n",
              "    <tr>\n",
              "      <th>3</th>\n",
              "      <td>1</td>\n",
              "      <td>0</td>\n",
              "      <td>1</td>\n",
              "      <td>0</td>\n",
              "      <td>2</td>\n",
              "      <td>1</td>\n",
              "      <td>1</td>\n",
              "      <td>8.200000</td>\n",
              "      <td>10.60610</td>\n",
              "      <td>59.0435</td>\n",
              "      <td>10.739832</td>\n",
              "      <td>4.800998</td>\n",
              "      <td>1562</td>\n",
              "    </tr>\n",
              "    <tr>\n",
              "      <th>4</th>\n",
              "      <td>1</td>\n",
              "      <td>0</td>\n",
              "      <td>1</td>\n",
              "      <td>0</td>\n",
              "      <td>3</td>\n",
              "      <td>1</td>\n",
              "      <td>1</td>\n",
              "      <td>9.305237</td>\n",
              "      <td>11.46350</td>\n",
              "      <td>43.6957</td>\n",
              "      <td>12.522300</td>\n",
              "      <td>5.597810</td>\n",
              "      <td>1600</td>\n",
              "    </tr>\n",
              "  </tbody>\n",
              "</table>\n",
              "</div>\n",
              "    <div class=\"colab-df-buttons\">\n",
              "\n",
              "  <div class=\"colab-df-container\">\n",
              "    <button class=\"colab-df-convert\" onclick=\"convertToInteractive('df-c815356e-6812-4ece-997a-b0c9da24bf3b')\"\n",
              "            title=\"Convert this dataframe to an interactive table.\"\n",
              "            style=\"display:none;\">\n",
              "\n",
              "  <svg xmlns=\"http://www.w3.org/2000/svg\" height=\"24px\" viewBox=\"0 -960 960 960\">\n",
              "    <path d=\"M120-120v-720h720v720H120Zm60-500h600v-160H180v160Zm220 220h160v-160H400v160Zm0 220h160v-160H400v160ZM180-400h160v-160H180v160Zm440 0h160v-160H620v160ZM180-180h160v-160H180v160Zm440 0h160v-160H620v160Z\"/>\n",
              "  </svg>\n",
              "    </button>\n",
              "\n",
              "  <style>\n",
              "    .colab-df-container {\n",
              "      display:flex;\n",
              "      gap: 12px;\n",
              "    }\n",
              "\n",
              "    .colab-df-convert {\n",
              "      background-color: #E8F0FE;\n",
              "      border: none;\n",
              "      border-radius: 50%;\n",
              "      cursor: pointer;\n",
              "      display: none;\n",
              "      fill: #1967D2;\n",
              "      height: 32px;\n",
              "      padding: 0 0 0 0;\n",
              "      width: 32px;\n",
              "    }\n",
              "\n",
              "    .colab-df-convert:hover {\n",
              "      background-color: #E2EBFA;\n",
              "      box-shadow: 0px 1px 2px rgba(60, 64, 67, 0.3), 0px 1px 3px 1px rgba(60, 64, 67, 0.15);\n",
              "      fill: #174EA6;\n",
              "    }\n",
              "\n",
              "    .colab-df-buttons div {\n",
              "      margin-bottom: 4px;\n",
              "    }\n",
              "\n",
              "    [theme=dark] .colab-df-convert {\n",
              "      background-color: #3B4455;\n",
              "      fill: #D2E3FC;\n",
              "    }\n",
              "\n",
              "    [theme=dark] .colab-df-convert:hover {\n",
              "      background-color: #434B5C;\n",
              "      box-shadow: 0px 1px 3px 1px rgba(0, 0, 0, 0.15);\n",
              "      filter: drop-shadow(0px 1px 2px rgba(0, 0, 0, 0.3));\n",
              "      fill: #FFFFFF;\n",
              "    }\n",
              "  </style>\n",
              "\n",
              "    <script>\n",
              "      const buttonEl =\n",
              "        document.querySelector('#df-c815356e-6812-4ece-997a-b0c9da24bf3b button.colab-df-convert');\n",
              "      buttonEl.style.display =\n",
              "        google.colab.kernel.accessAllowed ? 'block' : 'none';\n",
              "\n",
              "      async function convertToInteractive(key) {\n",
              "        const element = document.querySelector('#df-c815356e-6812-4ece-997a-b0c9da24bf3b');\n",
              "        const dataTable =\n",
              "          await google.colab.kernel.invokeFunction('convertToInteractive',\n",
              "                                                    [key], {});\n",
              "        if (!dataTable) return;\n",
              "\n",
              "        const docLinkHtml = 'Like what you see? Visit the ' +\n",
              "          '<a target=\"_blank\" href=https://colab.research.google.com/notebooks/data_table.ipynb>data table notebook</a>'\n",
              "          + ' to learn more about interactive tables.';\n",
              "        element.innerHTML = '';\n",
              "        dataTable['output_type'] = 'display_data';\n",
              "        await google.colab.output.renderOutput(dataTable, element);\n",
              "        const docLink = document.createElement('div');\n",
              "        docLink.innerHTML = docLinkHtml;\n",
              "        element.appendChild(docLink);\n",
              "      }\n",
              "    </script>\n",
              "  </div>\n",
              "\n",
              "\n",
              "<div id=\"df-9b58aa31-aff3-4428-bfad-f3d8a517b0a0\">\n",
              "  <button class=\"colab-df-quickchart\" onclick=\"quickchart('df-9b58aa31-aff3-4428-bfad-f3d8a517b0a0')\"\n",
              "            title=\"Suggest charts\"\n",
              "            style=\"display:none;\">\n",
              "\n",
              "<svg xmlns=\"http://www.w3.org/2000/svg\" height=\"24px\"viewBox=\"0 0 24 24\"\n",
              "     width=\"24px\">\n",
              "    <g>\n",
              "        <path d=\"M19 3H5c-1.1 0-2 .9-2 2v14c0 1.1.9 2 2 2h14c1.1 0 2-.9 2-2V5c0-1.1-.9-2-2-2zM9 17H7v-7h2v7zm4 0h-2V7h2v10zm4 0h-2v-4h2v4z\"/>\n",
              "    </g>\n",
              "</svg>\n",
              "  </button>\n",
              "\n",
              "<style>\n",
              "  .colab-df-quickchart {\n",
              "      --bg-color: #E8F0FE;\n",
              "      --fill-color: #1967D2;\n",
              "      --hover-bg-color: #E2EBFA;\n",
              "      --hover-fill-color: #174EA6;\n",
              "      --disabled-fill-color: #AAA;\n",
              "      --disabled-bg-color: #DDD;\n",
              "  }\n",
              "\n",
              "  [theme=dark] .colab-df-quickchart {\n",
              "      --bg-color: #3B4455;\n",
              "      --fill-color: #D2E3FC;\n",
              "      --hover-bg-color: #434B5C;\n",
              "      --hover-fill-color: #FFFFFF;\n",
              "      --disabled-bg-color: #3B4455;\n",
              "      --disabled-fill-color: #666;\n",
              "  }\n",
              "\n",
              "  .colab-df-quickchart {\n",
              "    background-color: var(--bg-color);\n",
              "    border: none;\n",
              "    border-radius: 50%;\n",
              "    cursor: pointer;\n",
              "    display: none;\n",
              "    fill: var(--fill-color);\n",
              "    height: 32px;\n",
              "    padding: 0;\n",
              "    width: 32px;\n",
              "  }\n",
              "\n",
              "  .colab-df-quickchart:hover {\n",
              "    background-color: var(--hover-bg-color);\n",
              "    box-shadow: 0 1px 2px rgba(60, 64, 67, 0.3), 0 1px 3px 1px rgba(60, 64, 67, 0.15);\n",
              "    fill: var(--button-hover-fill-color);\n",
              "  }\n",
              "\n",
              "  .colab-df-quickchart-complete:disabled,\n",
              "  .colab-df-quickchart-complete:disabled:hover {\n",
              "    background-color: var(--disabled-bg-color);\n",
              "    fill: var(--disabled-fill-color);\n",
              "    box-shadow: none;\n",
              "  }\n",
              "\n",
              "  .colab-df-spinner {\n",
              "    border: 2px solid var(--fill-color);\n",
              "    border-color: transparent;\n",
              "    border-bottom-color: var(--fill-color);\n",
              "    animation:\n",
              "      spin 1s steps(1) infinite;\n",
              "  }\n",
              "\n",
              "  @keyframes spin {\n",
              "    0% {\n",
              "      border-color: transparent;\n",
              "      border-bottom-color: var(--fill-color);\n",
              "      border-left-color: var(--fill-color);\n",
              "    }\n",
              "    20% {\n",
              "      border-color: transparent;\n",
              "      border-left-color: var(--fill-color);\n",
              "      border-top-color: var(--fill-color);\n",
              "    }\n",
              "    30% {\n",
              "      border-color: transparent;\n",
              "      border-left-color: var(--fill-color);\n",
              "      border-top-color: var(--fill-color);\n",
              "      border-right-color: var(--fill-color);\n",
              "    }\n",
              "    40% {\n",
              "      border-color: transparent;\n",
              "      border-right-color: var(--fill-color);\n",
              "      border-top-color: var(--fill-color);\n",
              "    }\n",
              "    60% {\n",
              "      border-color: transparent;\n",
              "      border-right-color: var(--fill-color);\n",
              "    }\n",
              "    80% {\n",
              "      border-color: transparent;\n",
              "      border-right-color: var(--fill-color);\n",
              "      border-bottom-color: var(--fill-color);\n",
              "    }\n",
              "    90% {\n",
              "      border-color: transparent;\n",
              "      border-bottom-color: var(--fill-color);\n",
              "    }\n",
              "  }\n",
              "</style>\n",
              "\n",
              "  <script>\n",
              "    async function quickchart(key) {\n",
              "      const quickchartButtonEl =\n",
              "        document.querySelector('#' + key + ' button');\n",
              "      quickchartButtonEl.disabled = true;  // To prevent multiple clicks.\n",
              "      quickchartButtonEl.classList.add('colab-df-spinner');\n",
              "      try {\n",
              "        const charts = await google.colab.kernel.invokeFunction(\n",
              "            'suggestCharts', [key], {});\n",
              "      } catch (error) {\n",
              "        console.error('Error during call to suggestCharts:', error);\n",
              "      }\n",
              "      quickchartButtonEl.classList.remove('colab-df-spinner');\n",
              "      quickchartButtonEl.classList.add('colab-df-quickchart-complete');\n",
              "    }\n",
              "    (() => {\n",
              "      let quickchartButtonEl =\n",
              "        document.querySelector('#df-9b58aa31-aff3-4428-bfad-f3d8a517b0a0 button');\n",
              "      quickchartButtonEl.style.display =\n",
              "        google.colab.kernel.accessAllowed ? 'block' : 'none';\n",
              "    })();\n",
              "  </script>\n",
              "</div>\n",
              "    </div>\n",
              "  </div>\n"
            ],
            "application/vnd.google.colaboratory.intrinsic+json": {
              "type": "dataframe",
              "variable_name": "data",
              "summary": "{\n  \"name\": \"data\",\n  \"rows\": 731,\n  \"fields\": [\n    {\n      \"column\": \"season\",\n      \"properties\": {\n        \"dtype\": \"number\",\n        \"std\": 1,\n        \"min\": 1,\n        \"max\": 4,\n        \"num_unique_values\": 4,\n        \"samples\": [\n          2,\n          4,\n          1\n        ],\n        \"semantic_type\": \"\",\n        \"description\": \"\"\n      }\n    },\n    {\n      \"column\": \"yr\",\n      \"properties\": {\n        \"dtype\": \"number\",\n        \"std\": 0,\n        \"min\": 0,\n        \"max\": 1,\n        \"num_unique_values\": 2,\n        \"samples\": [\n          1,\n          0\n        ],\n        \"semantic_type\": \"\",\n        \"description\": \"\"\n      }\n    },\n    {\n      \"column\": \"mnth\",\n      \"properties\": {\n        \"dtype\": \"number\",\n        \"std\": 3,\n        \"min\": 1,\n        \"max\": 12,\n        \"num_unique_values\": 12,\n        \"samples\": [\n          11,\n          10\n        ],\n        \"semantic_type\": \"\",\n        \"description\": \"\"\n      }\n    },\n    {\n      \"column\": \"holiday\",\n      \"properties\": {\n        \"dtype\": \"number\",\n        \"std\": 0,\n        \"min\": 0,\n        \"max\": 1,\n        \"num_unique_values\": 2,\n        \"samples\": [\n          1,\n          0\n        ],\n        \"semantic_type\": \"\",\n        \"description\": \"\"\n      }\n    },\n    {\n      \"column\": \"weekday\",\n      \"properties\": {\n        \"dtype\": \"number\",\n        \"std\": 2,\n        \"min\": 0,\n        \"max\": 6,\n        \"num_unique_values\": 7,\n        \"samples\": [\n          6,\n          0\n        ],\n        \"semantic_type\": \"\",\n        \"description\": \"\"\n      }\n    },\n    {\n      \"column\": \"workingday\",\n      \"properties\": {\n        \"dtype\": \"number\",\n        \"std\": 0,\n        \"min\": 0,\n        \"max\": 1,\n        \"num_unique_values\": 2,\n        \"samples\": [\n          1,\n          0\n        ],\n        \"semantic_type\": \"\",\n        \"description\": \"\"\n      }\n    },\n    {\n      \"column\": \"weathersit\",\n      \"properties\": {\n        \"dtype\": \"number\",\n        \"std\": 0,\n        \"min\": 1,\n        \"max\": 3,\n        \"num_unique_values\": 3,\n        \"samples\": [\n          2,\n          1\n        ],\n        \"semantic_type\": \"\",\n        \"description\": \"\"\n      }\n    },\n    {\n      \"column\": \"temp\",\n      \"properties\": {\n        \"dtype\": \"number\",\n        \"std\": 7.505090840571039,\n        \"min\": 2.4243464,\n        \"max\": 35.328347,\n        \"num_unique_values\": 499,\n        \"samples\": [\n          22.310847,\n          17.647835\n        ],\n        \"semantic_type\": \"\",\n        \"description\": \"\"\n      }\n    },\n    {\n      \"column\": \"atemp\",\n      \"properties\": {\n        \"dtype\": \"number\",\n        \"std\": 8.14805891931556,\n        \"min\": 3.95348,\n        \"max\": 42.0448,\n        \"num_unique_values\": 690,\n        \"samples\": [\n          23.16875,\n          29.9877\n        ],\n        \"semantic_type\": \"\",\n        \"description\": \"\"\n      }\n    },\n    {\n      \"column\": \"hum\",\n      \"properties\": {\n        \"dtype\": \"number\",\n        \"std\": 14.242909513835396,\n        \"min\": 0.0,\n        \"max\": 97.25,\n        \"num_unique_values\": 595,\n        \"samples\": [\n          70.7083,\n          71.8333\n        ],\n        \"semantic_type\": \"\",\n        \"description\": \"\"\n      }\n    },\n    {\n      \"column\": \"windspeed(mph)\",\n      \"properties\": {\n        \"dtype\": \"number\",\n        \"std\": 5.1923573356718515,\n        \"min\": 1.5002439,\n        \"max\": 34.000021,\n        \"num_unique_values\": 650,\n        \"samples\": [\n          6.749714,\n          9.333636\n        ],\n        \"semantic_type\": \"\",\n        \"description\": \"\"\n      }\n    },\n    {\n      \"column\": \"windspeed(ms)\",\n      \"properties\": {\n        \"dtype\": \"number\",\n        \"std\": 2.321125317690026,\n        \"min\": 0.670649932946,\n        \"max\": 15.1989365221,\n        \"num_unique_values\": 650,\n        \"samples\": [\n          3.01730621368,\n          4.17238980778\n        ],\n        \"semantic_type\": \"\",\n        \"description\": \"\"\n      }\n    },\n    {\n      \"column\": \"cnt\",\n      \"properties\": {\n        \"dtype\": \"number\",\n        \"std\": 1937,\n        \"min\": 22,\n        \"max\": 8714,\n        \"num_unique_values\": 696,\n        \"samples\": [\n          5170,\n          1607\n        ],\n        \"semantic_type\": \"\",\n        \"description\": \"\"\n      }\n    }\n  ]\n}"
            }
          },
          "metadata": {},
          "execution_count": 115
        }
      ],
      "source": [
        "# Load data\n",
        "import pandas as pd\n",
        "\n",
        "link = 'https://raw.githubusercontent.com/7bits/ml-courses-7bits/master/01-ml-basics/02-linreg/bikes_rent.csv.gz'\n",
        "data = pd.read_csv(link)\n",
        "data.head()"
      ]
    },
    {
      "cell_type": "markdown",
      "metadata": {
        "id": "HBEEr3hKOntE"
      },
      "source": [
        "Как видно, все данные у нас разного масштаба. Нам нужно привести все к одному масштабу, чтобы у нас не было такого большого разброса значений."
      ]
    },
    {
      "cell_type": "markdown",
      "metadata": {
        "id": "I0G895CgOntE"
      },
      "source": [
        "Зачем? Ответ заключается в том, что, как мы помним, в линейной регрессии используются взвешенные суммы признаков, соответсвенно, если их значения будут сильно отличаться друг от друга, то это приведет к расхождениям при обучении градиентным спуском."
      ]
    },
    {
      "cell_type": "markdown",
      "metadata": {
        "id": "OTmxpijwOntE"
      },
      "source": [
        "Взглянем на распределение признаков, используя графики из библиотеки `seaborn`.  \n",
        "По сути, `seaborn` это некая обертка над `matplotlib`, позволяющая строить чуть более красивые графики.  \n",
        "\n",
        "Сейчас нам понадобится [kdeplot](https://seaborn.pydata.org/generated/seaborn.kdeplot.html).  \n",
        "Данный график показывает _распределение плотности_ случайной величины, за которую мы берем столбец таблицы.  "
      ]
    },
    {
      "cell_type": "code",
      "execution_count": 116,
      "metadata": {
        "colab": {
          "base_uri": "https://localhost:8080/",
          "height": 466
        },
        "id": "UJC53fZtOntE",
        "outputId": "48445dd4-eaa9-4504-c9a0-6e3a9033e556"
      },
      "outputs": [
        {
          "output_type": "execute_result",
          "data": {
            "text/plain": [
              "<Axes: xlabel='temp', ylabel='Density'>"
            ]
          },
          "metadata": {},
          "execution_count": 116
        },
        {
          "output_type": "display_data",
          "data": {
            "text/plain": [
              "<Figure size 640x480 with 1 Axes>"
            ],
            "image/png": "[encoded data removed]"
          },
          "metadata": {}
        }
      ],
      "source": [
        "import seaborn as sns\n",
        "\n",
        "sns.kdeplot(data['temp'])\n",
        "sns.kdeplot(data['atemp'])\n",
        "sns.kdeplot(data['windspeed(ms)'])\n",
        "sns.kdeplot(data['windspeed(mph)'])\n",
        "sns.kdeplot(data['hum'])"
      ]
    },
    {
      "cell_type": "markdown",
      "metadata": {
        "id": "_jsqJDjoOntF"
      },
      "source": [
        "Как мы видим, все весьма неплохо, и величины вроде как укладываются в один масштаб...  \n",
        "Но, если мы нарисуем вместе не только вещественные (тип `float`) признаки, но и категориальные, то увидим, что все данные имеют разный масштаб, и в таком случае предсказать что-то не представляется возможным.  \n",
        "\n",
        "\n",
        "Обратите внимание, что мы рисуем только нецелевые признаки - так как значение `cnt` мы будем предсказывать, то мы его тут не учитываем."
      ]
    },
    {
      "cell_type": "markdown",
      "metadata": {
        "id": "dprGozmzOntF"
      },
      "source": [
        "Метод [DataFrame.drop](https://pandas.pydata.org/pandas-docs/stable/reference/api/pandas.DataFrame.drop.html) удаляет нужную колонку из датафрейма, и возвращает новый датафрейм, уже без удаляемой колонки. Так как целевой признак `cnt`, то именно его мы и удаляем."
      ]
    },
    {
      "cell_type": "code",
      "execution_count": 117,
      "metadata": {
        "colab": {
          "base_uri": "https://localhost:8080/",
          "height": 696
        },
        "id": "3AQSKyOMOntF",
        "outputId": "2a150d44-1594-479e-888e-0d6f53f56ddd"
      },
      "outputs": [
        {
          "output_type": "display_data",
          "data": {
            "text/plain": [
              "<Figure size 1200x800 with 1 Axes>"
            ],
            "image/png": "[encoded data removed]"
          },
          "metadata": {}
        }
      ],
      "source": [
        "plt.figure(figsize=(12,8))\n",
        "for i in data.drop(['cnt'], axis=1).columns:\n",
        "    sns.kdeplot(data[i])"
      ]
    },
    {
      "cell_type": "markdown",
      "metadata": {
        "id": "wpVJALt0OntF"
      },
      "source": [
        "Напишем небольшую реализацию `StandardScaler`. Суть его работы проста: все приводится к нулевому среднему значению, и единичному отклонению.  \n",
        "Формула:  \n",
        "$$x_i = \\frac{x_i - mean(X)}{std(X)}$$  \n",
        "где `mean` - среднее, `std` - среднеквадратичное отклонение.  \n",
        "Соответсвенно после масштабирования `Mean(X) = 0` и `Std(X) = 0`"
      ]
    },
    {
      "cell_type": "code",
      "execution_count": 118,
      "metadata": {
        "id": "zbe9NALrOntG"
      },
      "outputs": [],
      "source": [
        "def StandardScaler(X):\n",
        "    mean = np.mean(X, axis=0)  # Среднее по столбцам\n",
        "    std = np.std(X, axis=0)    # Стандартное отклонение по столбцам\n",
        "    return (X - mean) / std"
      ]
    },
    {
      "cell_type": "code",
      "execution_count": 119,
      "metadata": {
        "id": "HjBGq9itOntG"
      },
      "outputs": [],
      "source": [
        "# разобьем выборку на целевые и нецелевые признаки\n",
        "x = data.drop(['cnt'], axis=1)\n",
        "y = data['cnt']"
      ]
    },
    {
      "cell_type": "code",
      "execution_count": 120,
      "metadata": {
        "colab": {
          "base_uri": "https://localhost:8080/",
          "height": 424
        },
        "id": "HcewagSdOntG",
        "outputId": "89dbf666-f7a4-49b8-ee00-03fe9795e1cb"
      },
      "outputs": [
        {
          "output_type": "execute_result",
          "data": {
            "text/plain": [
              "       season        yr      mnth   holiday   weekday  workingday  weathersit  \\\n",
              "0   -1.348213 -1.001369 -1.600161 -0.171981  1.498809   -1.471225    1.110427   \n",
              "1   -1.348213 -1.001369 -1.600161 -0.171981 -1.496077   -1.471225    1.110427   \n",
              "2   -1.348213 -1.001369 -1.600161 -0.171981 -0.996930    0.679706   -0.726048   \n",
              "3   -1.348213 -1.001369 -1.600161 -0.171981 -0.497782    0.679706   -0.726048   \n",
              "4   -1.348213 -1.001369 -1.600161 -0.171981  0.001366    0.679706   -0.726048   \n",
              "..        ...       ...       ...       ...       ...         ...         ...   \n",
              "726 -1.348213  0.998633  1.588660 -0.171981  0.500513    0.679706    1.110427   \n",
              "727 -1.348213  0.998633  1.588660 -0.171981  0.999661    0.679706    1.110427   \n",
              "728 -1.348213  0.998633  1.588660 -0.171981  1.498809   -1.471225    1.110427   \n",
              "729 -1.348213  0.998633  1.588660 -0.171981 -1.496077   -1.471225   -0.726048   \n",
              "730 -1.348213  0.998633  1.588660 -0.171981 -0.996930    0.679706    1.110427   \n",
              "\n",
              "         temp     atemp       hum  windspeed(mph)  windspeed(ms)  \n",
              "0   -0.826662 -0.679946  1.250171       -0.387892      -0.387892  \n",
              "1   -0.721095 -0.740652  0.479113        0.749602       0.749602  \n",
              "2   -1.634657 -1.749767 -1.339274        0.746632       0.746632  \n",
              "3   -1.614780 -1.610270 -0.263182       -0.389829      -0.389829  \n",
              "4   -1.467414 -1.504971 -1.341494       -0.046307      -0.046307  \n",
              "..        ...       ...       ...             ...            ...  \n",
              "726 -1.318665 -1.521108  0.175807        2.061426       2.061426  \n",
              "727 -1.323224 -1.346690 -0.266238       -0.452131      -0.452131  \n",
              "728 -1.323224 -1.424344  0.878392       -0.853552      -0.853552  \n",
              "729 -1.309558 -1.490049 -1.015664        2.069444       2.069444  \n",
              "730 -1.528225 -1.540482 -0.354061       -0.460201      -0.460201  \n",
              "\n",
              "[731 rows x 12 columns]"
            ],
            "text/html": [
              "\n",
              "  <div id=\"df-fa99aeb8-9d91-43b0-983c-e6edd74b3537\" class=\"colab-df-container\">\n",
              "    <div>\n",
              "<style scoped>\n",
              "    .dataframe tbody tr th:only-of-type {\n",
              "        vertical-align: middle;\n",
              "    }\n",
              "\n",
              "    .dataframe tbody tr th {\n",
              "        vertical-align: top;\n",
              "    }\n",
              "\n",
              "    .dataframe thead th {\n",
              "        text-align: right;\n",
              "    }\n",
              "</style>\n",
              "<table border=\"1\" class=\"dataframe\">\n",
              "  <thead>\n",
              "    <tr style=\"text-align: right;\">\n",
              "      <th></th>\n",
              "      <th>season</th>\n",
              "      <th>yr</th>\n",
              "      <th>mnth</th>\n",
              "      <th>holiday</th>\n",
              "      <th>weekday</th>\n",
              "      <th>workingday</th>\n",
              "      <th>weathersit</th>\n",
              "      <th>temp</th>\n",
              "      <th>atemp</th>\n",
              "      <th>hum</th>\n",
              "      <th>windspeed(mph)</th>\n",
              "      <th>windspeed(ms)</th>\n",
              "    </tr>\n",
              "  </thead>\n",
              "  <tbody>\n",
              "    <tr>\n",
              "      <th>0</th>\n",
              "      <td>-1.348213</td>\n",
              "      <td>-1.001369</td>\n",
              "      <td>-1.600161</td>\n",
              "      <td>-0.171981</td>\n",
              "      <td>1.498809</td>\n",
              "      <td>-1.471225</td>\n",
              "      <td>1.110427</td>\n",
              "      <td>-0.826662</td>\n",
              "      <td>-0.679946</td>\n",
              "      <td>1.250171</td>\n",
              "      <td>-0.387892</td>\n",
              "      <td>-0.387892</td>\n",
              "    </tr>\n",
              "    <tr>\n",
              "      <th>1</th>\n",
              "      <td>-1.348213</td>\n",
              "      <td>-1.001369</td>\n",
              "      <td>-1.600161</td>\n",
              "      <td>-0.171981</td>\n",
              "      <td>-1.496077</td>\n",
              "      <td>-1.471225</td>\n",
              "      <td>1.110427</td>\n",
              "      <td>-0.721095</td>\n",
              "      <td>-0.740652</td>\n",
              "      <td>0.479113</td>\n",
              "      <td>0.749602</td>\n",
              "      <td>0.749602</td>\n",
              "    </tr>\n",
              "    <tr>\n",
              "      <th>2</th>\n",
              "      <td>-1.348213</td>\n",
              "      <td>-1.001369</td>\n",
              "      <td>-1.600161</td>\n",
              "      <td>-0.171981</td>\n",
              "      <td>-0.996930</td>\n",
              "      <td>0.679706</td>\n",
              "      <td>-0.726048</td>\n",
              "      <td>-1.634657</td>\n",
              "      <td>-1.749767</td>\n",
              "      <td>-1.339274</td>\n",
              "      <td>0.746632</td>\n",
              "      <td>0.746632</td>\n",
              "    </tr>\n",
              "    <tr>\n",
              "      <th>3</th>\n",
              "      <td>-1.348213</td>\n",
              "      <td>-1.001369</td>\n",
              "      <td>-1.600161</td>\n",
              "      <td>-0.171981</td>\n",
              "      <td>-0.497782</td>\n",
              "      <td>0.679706</td>\n",
              "      <td>-0.726048</td>\n",
              "      <td>-1.614780</td>\n",
              "      <td>-1.610270</td>\n",
              "      <td>-0.263182</td>\n",
              "      <td>-0.389829</td>\n",
              "      <td>-0.389829</td>\n",
              "    </tr>\n",
              "    <tr>\n",
              "      <th>4</th>\n",
              "      <td>-1.348213</td>\n",
              "      <td>-1.001369</td>\n",
              "      <td>-1.600161</td>\n",
              "      <td>-0.171981</td>\n",
              "      <td>0.001366</td>\n",
              "      <td>0.679706</td>\n",
              "      <td>-0.726048</td>\n",
              "      <td>-1.467414</td>\n",
              "      <td>-1.504971</td>\n",
              "      <td>-1.341494</td>\n",
              "      <td>-0.046307</td>\n",
              "      <td>-0.046307</td>\n",
              "    </tr>\n",
              "    <tr>\n",
              "      <th>...</th>\n",
              "      <td>...</td>\n",
              "      <td>...</td>\n",
              "      <td>...</td>\n",
              "      <td>...</td>\n",
              "      <td>...</td>\n",
              "      <td>...</td>\n",
              "      <td>...</td>\n",
              "      <td>...</td>\n",
              "      <td>...</td>\n",
              "      <td>...</td>\n",
              "      <td>...</td>\n",
              "      <td>...</td>\n",
              "    </tr>\n",
              "    <tr>\n",
              "      <th>726</th>\n",
              "      <td>-1.348213</td>\n",
              "      <td>0.998633</td>\n",
              "      <td>1.588660</td>\n",
              "      <td>-0.171981</td>\n",
              "      <td>0.500513</td>\n",
              "      <td>0.679706</td>\n",
              "      <td>1.110427</td>\n",
              "      <td>-1.318665</td>\n",
              "      <td>-1.521108</td>\n",
              "      <td>0.175807</td>\n",
              "      <td>2.061426</td>\n",
              "      <td>2.061426</td>\n",
              "    </tr>\n",
              "    <tr>\n",
              "      <th>727</th>\n",
              "      <td>-1.348213</td>\n",
              "      <td>0.998633</td>\n",
              "      <td>1.588660</td>\n",
              "      <td>-0.171981</td>\n",
              "      <td>0.999661</td>\n",
              "      <td>0.679706</td>\n",
              "      <td>1.110427</td>\n",
              "      <td>-1.323224</td>\n",
              "      <td>-1.346690</td>\n",
              "      <td>-0.266238</td>\n",
              "      <td>-0.452131</td>\n",
              "      <td>-0.452131</td>\n",
              "    </tr>\n",
              "    <tr>\n",
              "      <th>728</th>\n",
              "      <td>-1.348213</td>\n",
              "      <td>0.998633</td>\n",
              "      <td>1.588660</td>\n",
              "      <td>-0.171981</td>\n",
              "      <td>1.498809</td>\n",
              "      <td>-1.471225</td>\n",
              "      <td>1.110427</td>\n",
              "      <td>-1.323224</td>\n",
              "      <td>-1.424344</td>\n",
              "      <td>0.878392</td>\n",
              "      <td>-0.853552</td>\n",
              "      <td>-0.853552</td>\n",
              "    </tr>\n",
              "    <tr>\n",
              "      <th>729</th>\n",
              "      <td>-1.348213</td>\n",
              "      <td>0.998633</td>\n",
              "      <td>1.588660</td>\n",
              "      <td>-0.171981</td>\n",
              "      <td>-1.496077</td>\n",
              "      <td>-1.471225</td>\n",
              "      <td>-0.726048</td>\n",
              "      <td>-1.309558</td>\n",
              "      <td>-1.490049</td>\n",
              "      <td>-1.015664</td>\n",
              "      <td>2.069444</td>\n",
              "      <td>2.069444</td>\n",
              "    </tr>\n",
              "    <tr>\n",
              "      <th>730</th>\n",
              "      <td>-1.348213</td>\n",
              "      <td>0.998633</td>\n",
              "      <td>1.588660</td>\n",
              "      <td>-0.171981</td>\n",
              "      <td>-0.996930</td>\n",
              "      <td>0.679706</td>\n",
              "      <td>1.110427</td>\n",
              "      <td>-1.528225</td>\n",
              "      <td>-1.540482</td>\n",
              "      <td>-0.354061</td>\n",
              "      <td>-0.460201</td>\n",
              "      <td>-0.460201</td>\n",
              "    </tr>\n",
              "  </tbody>\n",
              "</table>\n",
              "<p>731 rows × 12 columns</p>\n",
              "</div>\n",
              "    <div class=\"colab-df-buttons\">\n",
              "\n",
              "  <div class=\"colab-df-container\">\n",
              "    <button class=\"colab-df-convert\" onclick=\"convertToInteractive('df-fa99aeb8-9d91-43b0-983c-e6edd74b3537')\"\n",
              "            title=\"Convert this dataframe to an interactive table.\"\n",
              "            style=\"display:none;\">\n",
              "\n",
              "  <svg xmlns=\"http://www.w3.org/2000/svg\" height=\"24px\" viewBox=\"0 -960 960 960\">\n",
              "    <path d=\"M120-120v-720h720v720H120Zm60-500h600v-160H180v160Zm220 220h160v-160H400v160Zm0 220h160v-160H400v160ZM180-400h160v-160H180v160Zm440 0h160v-160H620v160ZM180-180h160v-160H180v160Zm440 0h160v-160H620v160Z\"/>\n",
              "  </svg>\n",
              "    </button>\n",
              "\n",
              "  <style>\n",
              "    .colab-df-container {\n",
              "      display:flex;\n",
              "      gap: 12px;\n",
              "    }\n",
              "\n",
              "    .colab-df-convert {\n",
              "      background-color: #E8F0FE;\n",
              "      border: none;\n",
              "      border-radius: 50%;\n",
              "      cursor: pointer;\n",
              "      display: none;\n",
              "      fill: #1967D2;\n",
              "      height: 32px;\n",
              "      padding: 0 0 0 0;\n",
              "      width: 32px;\n",
              "    }\n",
              "\n",
              "    .colab-df-convert:hover {\n",
              "      background-color: #E2EBFA;\n",
              "      box-shadow: 0px 1px 2px rgba(60, 64, 67, 0.3), 0px 1px 3px 1px rgba(60, 64, 67, 0.15);\n",
              "      fill: #174EA6;\n",
              "    }\n",
              "\n",
              "    .colab-df-buttons div {\n",
              "      margin-bottom: 4px;\n",
              "    }\n",
              "\n",
              "    [theme=dark] .colab-df-convert {\n",
              "      background-color: #3B4455;\n",
              "      fill: #D2E3FC;\n",
              "    }\n",
              "\n",
              "    [theme=dark] .colab-df-convert:hover {\n",
              "      background-color: #434B5C;\n",
              "      box-shadow: 0px 1px 3px 1px rgba(0, 0, 0, 0.15);\n",
              "      filter: drop-shadow(0px 1px 2px rgba(0, 0, 0, 0.3));\n",
              "      fill: #FFFFFF;\n",
              "    }\n",
              "  </style>\n",
              "\n",
              "    <script>\n",
              "      const buttonEl =\n",
              "        document.querySelector('#df-fa99aeb8-9d91-43b0-983c-e6edd74b3537 button.colab-df-convert');\n",
              "      buttonEl.style.display =\n",
              "        google.colab.kernel.accessAllowed ? 'block' : 'none';\n",
              "\n",
              "      async function convertToInteractive(key) {\n",
              "        const element = document.querySelector('#df-fa99aeb8-9d91-43b0-983c-e6edd74b3537');\n",
              "        const dataTable =\n",
              "          await google.colab.kernel.invokeFunction('convertToInteractive',\n",
              "                                                    [key], {});\n",
              "        if (!dataTable) return;\n",
              "\n",
              "        const docLinkHtml = 'Like what you see? Visit the ' +\n",
              "          '<a target=\"_blank\" href=https://colab.research.google.com/notebooks/data_table.ipynb>data table notebook</a>'\n",
              "          + ' to learn more about interactive tables.';\n",
              "        element.innerHTML = '';\n",
              "        dataTable['output_type'] = 'display_data';\n",
              "        await google.colab.output.renderOutput(dataTable, element);\n",
              "        const docLink = document.createElement('div');\n",
              "        docLink.innerHTML = docLinkHtml;\n",
              "        element.appendChild(docLink);\n",
              "      }\n",
              "    </script>\n",
              "  </div>\n",
              "\n",
              "\n",
              "<div id=\"df-5104c847-61af-4292-84a6-9dd0510f72b2\">\n",
              "  <button class=\"colab-df-quickchart\" onclick=\"quickchart('df-5104c847-61af-4292-84a6-9dd0510f72b2')\"\n",
              "            title=\"Suggest charts\"\n",
              "            style=\"display:none;\">\n",
              "\n",
              "<svg xmlns=\"http://www.w3.org/2000/svg\" height=\"24px\"viewBox=\"0 0 24 24\"\n",
              "     width=\"24px\">\n",
              "    <g>\n",
              "        <path d=\"M19 3H5c-1.1 0-2 .9-2 2v14c0 1.1.9 2 2 2h14c1.1 0 2-.9 2-2V5c0-1.1-.9-2-2-2zM9 17H7v-7h2v7zm4 0h-2V7h2v10zm4 0h-2v-4h2v4z\"/>\n",
              "    </g>\n",
              "</svg>\n",
              "  </button>\n",
              "\n",
              "<style>\n",
              "  .colab-df-quickchart {\n",
              "      --bg-color: #E8F0FE;\n",
              "      --fill-color: #1967D2;\n",
              "      --hover-bg-color: #E2EBFA;\n",
              "      --hover-fill-color: #174EA6;\n",
              "      --disabled-fill-color: #AAA;\n",
              "      --disabled-bg-color: #DDD;\n",
              "  }\n",
              "\n",
              "  [theme=dark] .colab-df-quickchart {\n",
              "      --bg-color: #3B4455;\n",
              "      --fill-color: #D2E3FC;\n",
              "      --hover-bg-color: #434B5C;\n",
              "      --hover-fill-color: #FFFFFF;\n",
              "      --disabled-bg-color: #3B4455;\n",
              "      --disabled-fill-color: #666;\n",
              "  }\n",
              "\n",
              "  .colab-df-quickchart {\n",
              "    background-color: var(--bg-color);\n",
              "    border: none;\n",
              "    border-radius: 50%;\n",
              "    cursor: pointer;\n",
              "    display: none;\n",
              "    fill: var(--fill-color);\n",
              "    height: 32px;\n",
              "    padding: 0;\n",
              "    width: 32px;\n",
              "  }\n",
              "\n",
              "  .colab-df-quickchart:hover {\n",
              "    background-color: var(--hover-bg-color);\n",
              "    box-shadow: 0 1px 2px rgba(60, 64, 67, 0.3), 0 1px 3px 1px rgba(60, 64, 67, 0.15);\n",
              "    fill: var(--button-hover-fill-color);\n",
              "  }\n",
              "\n",
              "  .colab-df-quickchart-complete:disabled,\n",
              "  .colab-df-quickchart-complete:disabled:hover {\n",
              "    background-color: var(--disabled-bg-color);\n",
              "    fill: var(--disabled-fill-color);\n",
              "    box-shadow: none;\n",
              "  }\n",
              "\n",
              "  .colab-df-spinner {\n",
              "    border: 2px solid var(--fill-color);\n",
              "    border-color: transparent;\n",
              "    border-bottom-color: var(--fill-color);\n",
              "    animation:\n",
              "      spin 1s steps(1) infinite;\n",
              "  }\n",
              "\n",
              "  @keyframes spin {\n",
              "    0% {\n",
              "      border-color: transparent;\n",
              "      border-bottom-color: var(--fill-color);\n",
              "      border-left-color: var(--fill-color);\n",
              "    }\n",
              "    20% {\n",
              "      border-color: transparent;\n",
              "      border-left-color: var(--fill-color);\n",
              "      border-top-color: var(--fill-color);\n",
              "    }\n",
              "    30% {\n",
              "      border-color: transparent;\n",
              "      border-left-color: var(--fill-color);\n",
              "      border-top-color: var(--fill-color);\n",
              "      border-right-color: var(--fill-color);\n",
              "    }\n",
              "    40% {\n",
              "      border-color: transparent;\n",
              "      border-right-color: var(--fill-color);\n",
              "      border-top-color: var(--fill-color);\n",
              "    }\n",
              "    60% {\n",
              "      border-color: transparent;\n",
              "      border-right-color: var(--fill-color);\n",
              "    }\n",
              "    80% {\n",
              "      border-color: transparent;\n",
              "      border-right-color: var(--fill-color);\n",
              "      border-bottom-color: var(--fill-color);\n",
              "    }\n",
              "    90% {\n",
              "      border-color: transparent;\n",
              "      border-bottom-color: var(--fill-color);\n",
              "    }\n",
              "  }\n",
              "</style>\n",
              "\n",
              "  <script>\n",
              "    async function quickchart(key) {\n",
              "      const quickchartButtonEl =\n",
              "        document.querySelector('#' + key + ' button');\n",
              "      quickchartButtonEl.disabled = true;  // To prevent multiple clicks.\n",
              "      quickchartButtonEl.classList.add('colab-df-spinner');\n",
              "      try {\n",
              "        const charts = await google.colab.kernel.invokeFunction(\n",
              "            'suggestCharts', [key], {});\n",
              "      } catch (error) {\n",
              "        console.error('Error during call to suggestCharts:', error);\n",
              "      }\n",
              "      quickchartButtonEl.classList.remove('colab-df-spinner');\n",
              "      quickchartButtonEl.classList.add('colab-df-quickchart-complete');\n",
              "    }\n",
              "    (() => {\n",
              "      let quickchartButtonEl =\n",
              "        document.querySelector('#df-5104c847-61af-4292-84a6-9dd0510f72b2 button');\n",
              "      quickchartButtonEl.style.display =\n",
              "        google.colab.kernel.accessAllowed ? 'block' : 'none';\n",
              "    })();\n",
              "  </script>\n",
              "</div>\n",
              "    </div>\n",
              "  </div>\n"
            ],
            "application/vnd.google.colaboratory.intrinsic+json": {
              "type": "dataframe",
              "variable_name": "x_scaled",
              "summary": "{\n  \"name\": \"x_scaled\",\n  \"rows\": 731,\n  \"fields\": [\n    {\n      \"column\": \"season\",\n      \"properties\": {\n        \"dtype\": \"number\",\n        \"std\": 1.0006846971017895,\n        \"min\": -1.3482131516004414,\n        \"max\": 1.3543750032987985,\n        \"num_unique_values\": 4,\n        \"samples\": [\n          -0.44735043330069474,\n          1.3543750032987985,\n          -1.3482131516004414\n        ],\n        \"semantic_type\": \"\",\n        \"description\": \"\"\n      }\n    },\n    {\n      \"column\": \"yr\",\n      \"properties\": {\n        \"dtype\": \"number\",\n        \"std\": 1.000684697101786,\n        \"min\": -1.001368926034449,\n        \"max\": 0.9986329453622236,\n        \"num_unique_values\": 2,\n        \"samples\": [\n          0.9986329453622236,\n          -1.001368926034449\n        ],\n        \"semantic_type\": \"\",\n        \"description\": \"\"\n      }\n    },\n    {\n      \"column\": \"mnth\",\n      \"properties\": {\n        \"dtype\": \"number\",\n        \"std\": 1.0006846971017869,\n        \"min\": -1.6001607217042715,\n        \"max\": 1.588660186157946,\n        \"num_unique_values\": 12,\n        \"samples\": [\n          1.2987673763522898,\n          1.0088745665466337\n        ],\n        \"semantic_type\": \"\",\n        \"description\": \"\"\n      }\n    },\n    {\n      \"column\": \"holiday\",\n      \"properties\": {\n        \"dtype\": \"number\",\n        \"std\": 1.0006846971017944,\n        \"min\": -0.17198100124354537,\n        \"max\": 5.814595756329391,\n        \"num_unique_values\": 2,\n        \"samples\": [\n          5.814595756329391,\n          -0.17198100124354537\n        ],\n        \"semantic_type\": \"\",\n        \"description\": \"\"\n      }\n    },\n    {\n      \"column\": \"weekday\",\n      \"properties\": {\n        \"dtype\": \"number\",\n        \"std\": 1.0006846971017846,\n        \"min\": -1.4960773202531252,\n        \"max\": 1.4988086343932499,\n        \"num_unique_values\": 7,\n        \"samples\": [\n          1.4988086343932499,\n          -1.4960773202531252\n        ],\n        \"semantic_type\": \"\",\n        \"description\": \"\"\n      }\n    },\n    {\n      \"column\": \"workingday\",\n      \"properties\": {\n        \"dtype\": \"number\",\n        \"std\": 1.0006846971017935,\n        \"min\": -1.4712247158412575,\n        \"max\": 0.6797058187186609,\n        \"num_unique_values\": 2,\n        \"samples\": [\n          0.6797058187186609,\n          -1.4712247158412575\n        ],\n        \"semantic_type\": \"\",\n        \"description\": \"\"\n      }\n    },\n    {\n      \"column\": \"weathersit\",\n      \"properties\": {\n        \"dtype\": \"number\",\n        \"std\": 1.0006846971017938,\n        \"min\": -0.7260481545646873,\n        \"max\": 2.946901333233142,\n        \"num_unique_values\": 3,\n        \"samples\": [\n          1.1104265893342273,\n          -0.7260481545646873\n        ],\n        \"semantic_type\": \"\",\n        \"description\": \"\"\n      }\n    },\n    {\n      \"column\": \"temp\",\n      \"properties\": {\n        \"dtype\": \"number\",\n        \"std\": 1.0006846971017889,\n        \"min\": -2.3848714287162918,\n        \"max\": 2.002354598696162,\n        \"num_unique_values\": 499,\n        \"samples\": [\n          0.26667766669897425,\n          -0.35506094378891256\n        ],\n        \"semantic_type\": \"\",\n        \"description\": \"\"\n      }\n    },\n    {\n      \"column\": \"atemp\",\n      \"properties\": {\n        \"dtype\": \"number\",\n        \"std\": 1.0006846971017893,\n        \"min\": -2.4272961366497197,\n        \"max\": 2.250799762491028,\n        \"num_unique_values\": 690,\n        \"samples\": [\n          -0.06741793374464232,\n          0.7700353766537844\n        ],\n        \"semantic_type\": \"\",\n        \"description\": \"\"\n      }\n    },\n    {\n      \"column\": \"hum\",\n      \"properties\": {\n        \"dtype\": \"number\",\n        \"std\": 1.0006846971017884,\n        \"min\": -4.41148614728098,\n        \"max\": 2.4211477818061033,\n        \"num_unique_values\": 595,\n        \"samples\": [\n          0.5563691704369448,\n          0.635409922829983\n        ],\n        \"semantic_type\": \"\",\n        \"description\": \"\"\n      }\n    },\n    {\n      \"column\": \"windspeed(mph)\",\n      \"properties\": {\n        \"dtype\": \"number\",\n        \"std\": 1.0006846971017882,\n        \"min\": -2.170506156792148,\n        \"max\": 4.092935956438497,\n        \"num_unique_values\": 650,\n        \"samples\": [\n          -1.1588145382522448,\n          -0.660834326809405\n        ],\n        \"semantic_type\": \"\",\n        \"description\": \"\"\n      }\n    },\n    {\n      \"column\": \"windspeed(ms)\",\n      \"properties\": {\n        \"dtype\": \"number\",\n        \"std\": 1.0006846971017882,\n        \"min\": -2.1705061567919013,\n        \"max\": 4.09293595642581,\n        \"num_unique_values\": 650,\n        \"samples\": [\n          -1.158814538251764,\n          -0.6608343268086675\n        ],\n        \"semantic_type\": \"\",\n        \"description\": \"\"\n      }\n    }\n  ]\n}"
            }
          },
          "metadata": {},
          "execution_count": 120
        }
      ],
      "source": [
        "x_scaled = StandardScaler(x)\n",
        "x_scaled"
      ]
    },
    {
      "cell_type": "markdown",
      "metadata": {
        "id": "YQ_HryO_OntG"
      },
      "source": [
        "Визуализируем теперь отмасштабированные значения, используя тот же `distplot`  \n",
        "(Это вы можете сделать самостоятельно).  \n",
        "\n",
        "Видно, что признаки теперь имеют одинаковый масштаб, и их распределение похоже на нормальное."
      ]
    },
    {
      "cell_type": "code",
      "execution_count": 121,
      "metadata": {
        "colab": {
          "base_uri": "https://localhost:8080/",
          "height": 696
        },
        "id": "f1dfIFPyOntH",
        "outputId": "874481d2-42c4-493b-e7b7-4f4e6ba41354"
      },
      "outputs": [
        {
          "output_type": "display_data",
          "data": {
            "text/plain": [
              "<Figure size 1200x800 with 1 Axes>"
            ],
            "image/png": "[encoded data removed]"
          },
          "metadata": {}
        }
      ],
      "source": [
        "plt.figure(figsize=(12,8))\n",
        "for i in x_scaled.columns:\n",
        "    sns.kdeplot(x_scaled[i])"
      ]
    },
    {
      "cell_type": "markdown",
      "metadata": {
        "id": "-Koj524zOntH"
      },
      "source": [
        "Проверим среднее и отклонение. Поле `values` классов `DataFrame` или `Series` вернет numpy-массив."
      ]
    },
    {
      "cell_type": "code",
      "execution_count": 122,
      "metadata": {
        "colab": {
          "base_uri": "https://localhost:8080/"
        },
        "id": "d63VqgxGOntH",
        "outputId": "37bf27dc-7172-4f72-e807-0344996c3cd0"
      },
      "outputs": [
        {
          "output_type": "stream",
          "name": "stdout",
          "text": [
            "1.4580220296034887e-17\n",
            "1.0\n"
          ]
        }
      ],
      "source": [
        "print(np.mean(x_scaled.values))\n",
        "print(np.std(x_scaled.values))"
      ]
    },
    {
      "cell_type": "markdown",
      "metadata": {
        "id": "LGofnRgxOntI"
      },
      "source": [
        "Среднее должно быть околонулевым значением, а отклонение равно единице."
      ]
    },
    {
      "cell_type": "code",
      "execution_count": 123,
      "metadata": {
        "id": "LoYBrhdWOntI"
      },
      "outputs": [],
      "source": [
        "# переименуем переменные для удобства,\n",
        "# и превратим данные в numpy-массивы.\n",
        "x = x_scaled.values\n",
        "y = y.values\n",
        "\n",
        "\n",
        "model = linReg(iters=5000, lr=0.001)\n",
        "model.fit(x, y)\n",
        "pred = model.predict(x)"
      ]
    },
    {
      "cell_type": "markdown",
      "metadata": {
        "id": "-Wefwu9VOntI"
      },
      "source": [
        "Посмотрим на размер предсказаных значений"
      ]
    },
    {
      "cell_type": "code",
      "execution_count": 125,
      "metadata": {
        "id": "nBpBaZcPOntI"
      },
      "outputs": [],
      "source": [
        "assert pred.shape == y.shape, \"Неправильные размеры\""
      ]
    },
    {
      "cell_type": "markdown",
      "metadata": {
        "id": "5FTQ2PswOntI"
      },
      "source": [
        "------------------------------------------------------------------------------------------------------------\n",
        "------------------------------------------------------------------------------------------------------------\n",
        "\n",
        "\n",
        "Оценка за задание высчитывается следующим образом исходя из RSS и TSS:\n",
        "\n",
        "$$\n",
        "RSS = \\sum_{i=1}^{n} {\\left(y_i - model(x_i)\\right)}^2 \\\\\n",
        "TSS = \\sum_{i=1}^{n} {\\left(y_i - \\overline{y}\\right)}^2,\\ где\\ \\overline{y}\\ -\\ среднее, \\\\\n",
        "total\\ score = 1 - \\frac{RSS}{TSS}\n",
        "$$\n",
        "\n",
        "Собственно, точно так же оценивается качество линейной регрессии в библиотеке `sklearn`.\n",
        "\n",
        "Если Ваш $total\\ score$ выше либо равен 0.79, то оценка - 100 баллов.   \n",
        "Если Ваш $total\\ score$ выше либо равен 0.69, то оценка - 85 баллов  \n",
        "Если Ваш $total\\ score$ выше либо равен 0.55, то оценка - 70 баллов  \n",
        "Если Ваш $total\\ score$ выше 0.5, то оценка - 40 баллов.  \n",
        "Если Ваш $total\\ score$ равен либо ниже 0.5, то оценка - 0 баллов.  "
      ]
    },
    {
      "cell_type": "code",
      "execution_count": 126,
      "metadata": {
        "colab": {
          "base_uri": "https://localhost:8080/"
        },
        "id": "lRjs2BK0OntJ",
        "outputId": "b7dd795d-a5ae-4751-ae60-0ad38c33a86f"
      },
      "outputs": [
        {
          "output_type": "stream",
          "name": "stdout",
          "text": [
            "Оценка 100 баллов\n"
          ]
        }
      ],
      "source": [
        "RSS = ((y - pred) ** 2).sum()\n",
        "TSS = ((y - y.mean()) ** 2).sum()\n",
        "\n",
        "score = 1-RSS/TSS\n",
        "print(f'Оценка {100 if score >= 0.79 else (85 if score >= 0.69 else (70 if score >= 0.55 else (40 if score > 0.5 else 0)))} баллов')"
      ]
    },
    {
      "cell_type": "code",
      "execution_count": 127,
      "metadata": {
        "colab": {
          "base_uri": "https://localhost:8080/"
        },
        "id": "bQXPoC1UOntJ",
        "outputId": "4d86cb58-a11b-45ff-c895-366637a2dc93"
      },
      "outputs": [
        {
          "output_type": "execute_result",
          "data": {
            "text/plain": [
              "(0.800575618573872, 0.7980738048107379, 0.800575618573872)"
            ]
          },
          "metadata": {},
          "execution_count": 127
        }
      ],
      "source": [
        "# сравним нашу реализацию с реализацией из Sklearn\n",
        "from sklearn.linear_model import LinearRegression\n",
        "\n",
        "model = LinearRegression()\n",
        "model.fit(x, y)\n",
        "pred_lib = model.predict(x)\n",
        "\n",
        "RSS = ((y - pred_lib) ** 2).sum()\n",
        "TSS = ((y - y.mean()) ** 2).sum()\n",
        "\n",
        "score_lib = 1-RSS/TSS\n",
        "score_lib, score, model.score(x, y)"
      ]
    }
  ],
  "metadata": {
    "colab": {
      "name": "02-linreg.ipynb",
      "provenance": []
    },
    "kernelspec": {
      "display_name": "Python 3",
      "language": "python",
      "name": "python3"
    },
    "language_info": {
      "codemirror_mode": {
        "name": "ipython",
        "version": 3
      },
      "file_extension": ".py",
      "mimetype": "text/x-python",
      "name": "python",
      "nbconvert_exporter": "python",
      "pygments_lexer": "ipython3",
      "version": "3.9.1"
    }
  },
  "nbformat": 4,
  "nbformat_minor": 0
}