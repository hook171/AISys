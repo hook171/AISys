{
 "cells": [
  {
   "cell_type": "code",
   "execution_count": 23,
   "metadata": {},
   "outputs": [],
   "source": [
    "# для начала импортируем модули, которые понадобятся нам для написание классификатора \n",
    "# numpy - библиотека для работы с массивами(матрицами в том числе), помогает делать различные операции над ними\n",
    "import numpy as np\n",
    "# matplotlib, seaborn понадобятся для рисования графиков, отображения изображений\n",
    "from matplotlib import pyplot as plt\n",
    "import seaborn as sns\n",
    "\n",
    "# с помощью этой команды графики будут отображаться в текущем окне в ноутбуке под ячейкой, где написан код для отображения графика \n",
    "%matplotlib inline\n",
    "\n",
    "# Зафиксируем случайность, чтобы каждый раз получалось одно и тоже\n",
    "np.random.seed(seed=42)"
   ]
  },
  {
   "cell_type": "code",
   "execution_count": 24,
   "metadata": {},
   "outputs": [
    {
     "data": {
      "text/plain": [
       "<matplotlib.collections.PathCollection at 0x1d81ef5b9d0>"
      ]
     },
     "execution_count": 24,
     "metadata": {},
     "output_type": "execute_result"
    },
    {
     "data": {
      "image/png": "[encoded data removed]",
      "text/plain": [
       "<Figure size 640x480 with 1 Axes>"
      ]
     },
     "metadata": {},
     "output_type": "display_data"
    }
   ],
   "source": [
    "p1 = np.random.normal(loc=0, scale=1, size=(50,2))\n",
    "p2 = np.random.normal(loc=5, scale=2, size=(50,2))\n",
    "p3 = np.random.normal(loc=10, scale=0.8, size=(50,2)) - np.array([5, -5])\n",
    "\n",
    "\n",
    "X = np.concatenate((p1, p2, p3))\n",
    "y = np.array([1]*50 + [2]*50 + [3]*50)\n",
    "\n",
    "point = [2, 2.5]\n",
    "\n",
    "plt.scatter(p1[:,0], p1[:, 1], color='blue')\n",
    "plt.scatter(p2[:,0], p2[:, 1], color='orange')\n",
    "plt.scatter(p3[:,0], p3[:, 1], color='green')\n",
    "plt.scatter(point[0], point[1], s = 100, color='red')"
   ]
  },
  {
   "cell_type": "markdown",
   "metadata": {},
   "source": [
    "Задание #1"
   ]
  },
  {
   "cell_type": "code",
   "execution_count": 25,
   "metadata": {},
   "outputs": [],
   "source": [
    "import numpy as np\n",
    "\n",
    "def euclidian_metric(a, b):\n",
    "    return np.sqrt(np.sum(np.power(a - b, 2), axis=1))"
   ]
  },
  {
   "cell_type": "code",
   "execution_count": 27,
   "metadata": {},
   "outputs": [
    {
     "name": "stdout",
     "output_type": "stream",
     "text": [
      "ошибок нет\n"
     ]
    }
   ],
   "source": [
    "a = np.zeros((1,4))\n",
    "b = np.ones((1,4))\n",
    "\n",
    "assert euclidian_metric(a,b)[0] == 2\n",
    "print('ошибок нет')"
   ]
  },
  {
   "cell_type": "code",
   "execution_count": 28,
   "metadata": {},
   "outputs": [
    {
     "name": "stdout",
     "output_type": "stream",
     "text": [
      "Сумма при axis = 0: [3 6 9]\n",
      "Сумма при axis = 1: [6 6 6]\n"
     ]
    }
   ],
   "source": [
    "array = [[1,2,3],[1,2,3],[1,2,3]]\n",
    "print('Сумма при axis = 0: {0}'.format(np.sum(array, axis = 0)))\n",
    "print('Сумма при axis = 1: {0}'.format(np.sum(array, axis = 1)))"
   ]
  },
  {
   "cell_type": "markdown",
   "metadata": {},
   "source": [
    "Задание #2.1"
   ]
  },
  {
   "cell_type": "code",
   "execution_count": 29,
   "metadata": {},
   "outputs": [],
   "source": [
    "import numpy as np\n",
    "\n",
    "def __find_neighbours(k, y, distances):\n",
    "    # Получаем индексы, которые сортируют расстояния по возрастанию\n",
    "    sorted_indices = np.argsort(distances)\n",
    "    \n",
    "    # Берем первые k индексов (ближайшие соседи)\n",
    "    nearest_indices = sorted_indices[:k]\n",
    "    \n",
    "    # Получаем классы ближайших соседей\n",
    "    neighbours_classes = y[nearest_indices]\n",
    "    \n",
    "    # Получаем расстояния до ближайших соседей\n",
    "    neighbours_distances = distances[nearest_indices]\n",
    "    \n",
    "    return neighbours_classes, neighbours_distances"
   ]
  },
  {
   "cell_type": "code",
   "execution_count": 30,
   "metadata": {},
   "outputs": [
    {
     "name": "stdout",
     "output_type": "stream",
     "text": [
      "Если вы видите этот текст, но не видите ошибку, то всё работает корректно!\n"
     ]
    }
   ],
   "source": [
    "Y = np.arange(10)\n",
    "dist = np.linspace(1, 10, 10)\n",
    "neighbours = __find_neighbours(3, Y, dist)\n",
    "real_neighbours = ([0, 1, 2], [1., 2., 3.])\n",
    "for i in range(len(neighbours)):\n",
    "    for j in range(len(neighbours[i])):\n",
    "        assert neighbours[i][j] == real_neighbours[i][j]\n",
    "print('Если вы видите этот текст, но не видите ошибку, то всё работает корректно!')"
   ]
  },
  {
   "cell_type": "markdown",
   "metadata": {},
   "source": [
    "#Задание 2.2"
   ]
  },
  {
   "cell_type": "code",
   "execution_count": 31,
   "metadata": {},
   "outputs": [],
   "source": [
    "import numpy as np\n",
    "\n",
    "def __get_closest_classes(neighbours):\n",
    "    # Используем np.unique для получения уникальных классов и их количества\n",
    "    unique_classes, counts = np.unique(neighbours, return_counts=True)\n",
    "    \n",
    "    # Находим максимальное количество вхождений\n",
    "    max_count = np.max(counts)\n",
    "    \n",
    "    # Находим все классы, у которых количество вхождений равно максимальному\n",
    "    best_classes = unique_classes[counts == max_count]\n",
    "    \n",
    "    return best_classes.tolist()"
   ]
  },
  {
   "cell_type": "code",
   "execution_count": 32,
   "metadata": {},
   "outputs": [
    {
     "name": "stdout",
     "output_type": "stream",
     "text": [
      "get_closest_classes работает верно\n"
     ]
    }
   ],
   "source": [
    "# sanity check\n",
    "assert __get_closest_classes(np.asarray([1,2,3,2,2])) == [2]\n",
    "closest = __get_closest_classes(np.asarray([1,2,3,2,3]))\n",
    "assert closest[0] == 2 and closest[1] == 3\n",
    "print('get_closest_classes работает верно')"
   ]
  },
  {
   "cell_type": "markdown",
   "metadata": {},
   "source": [
    "#Задание 2.3"
   ]
  },
  {
   "cell_type": "code",
   "execution_count": 33,
   "metadata": {},
   "outputs": [],
   "source": [
    "import numpy as np\n",
    "\n",
    "def _choose_best_class(best_classes, neighbours, neighbouring_distances):\n",
    "    min_mean_dist = np.inf\n",
    "    best_class = None\n",
    "\n",
    "    for cls in best_classes:\n",
    "        # Находим индексы объектов, принадлежащих текущему классу\n",
    "        indices = np.where(neighbours == cls)[0]\n",
    "        \n",
    "        # Вычисляем среднее расстояние до объектов этого класса\n",
    "        mean_dist = np.mean(neighbouring_distances[indices])\n",
    "        \n",
    "        # Если среднее расстояние меньше текущего минимального, обновляем лучший класс\n",
    "        if mean_dist < min_mean_dist:\n",
    "            min_mean_dist = mean_dist\n",
    "            best_class = cls\n",
    "\n",
    "    return best_class"
   ]
  },
  {
   "cell_type": "code",
   "execution_count": 34,
   "metadata": {},
   "outputs": [
    {
     "name": "stdout",
     "output_type": "stream",
     "text": [
      "Проверка пройдена\n"
     ]
    }
   ],
   "source": [
    "# sanity check\n",
    "assert _choose_best_class([1,2], np.array([1, 2, 1, 3, 2]), np.array([0.5, 1, 1, 8, 0.6])) == 1\n",
    "print('Проверка пройдена')"
   ]
  },
  {
   "cell_type": "code",
   "execution_count": 35,
   "metadata": {},
   "outputs": [],
   "source": [
    "def nearest_neighbours_classify(x, y, k, x_pred):\n",
    "    res = np.zeros(x_pred.shape[0], dtype=y.dtype)\n",
    "\n",
    "    for i in range(x_pred.shape[0]):\n",
    "        distances = euclidian_metric(x, x_pred[i])  # считаем расстояния до классов\n",
    "        neighbours, neighbouring_distances = __find_neighbours(k, y, distances)  # находим k ближайших соседей\n",
    "        best_classes = __get_closest_classes(neighbours)  # находим преобладающие классы\n",
    "        res[i] = _choose_best_class(best_classes, neighbours, neighbouring_distances)  # выбираем наиболее подходящий класс\n",
    "\n",
    "    return res"
   ]
  },
  {
   "cell_type": "code",
   "execution_count": null,
   "metadata": {},
   "outputs": [],
   "source": [
    "from sklearn.model_selection import train_test_split\n",
    "from sklearn.metrics import accuracy_score\n",
    "\n",
    "# train_test_split разбивает X и y на выборки при этом размер тестовой выборки устанавливается через test_size  \n",
    "X_train, X_test, y_train, y_test = train_test_split(X, y, random_state=42, test_size=0.2)\n",
    "\n",
    "# выберем число соседей =  5\n",
    "# для данных из тестовой выборки предскажем, к какому классу относятся точки\n",
    "y_pred = nearest_neighbours_classify(X_train, y_train, 5, X_test)\n",
    "\n",
    "#а теперь сравним предсказанное значение с реальным и выведем значение, показывающее процент верно классифицированных\n",
    "#(значение будет от 0 до 1 - от 0 до 100 процентов соответственно)\n",
    "print(accuracy_score(y_test, y_pred))\n",
    "     "
   ]
  },
  {
   "cell_type": "code",
   "execution_count": 19,
   "metadata": {},
   "outputs": [
    {
     "name": "stdout",
     "output_type": "stream",
     "text": [
      "Экземпляров: 1797\n",
      "Размер изображения: 8x8\n"
     ]
    }
   ],
   "source": [
    "from sklearn import datasets\n",
    "import numpy as np\n",
    "import matplotlib.pyplot as plt\n",
    "from sklearn.model_selection import train_test_split\n",
    "from sklearn.metrics import accuracy_score\n",
    "\n",
    "# Загружаем данные MNIST\n",
    "X, y = datasets.load_digits(return_X_y=True)\n",
    "\n",
    "# Выводим информацию о данных\n",
    "print(\"Экземпляров: {}\\nРазмер изображения: {}x{}\".format(X.shape[0], int(np.sqrt(X.shape[1])), int(np.sqrt(X.shape[1]))))"
   ]
  },
  {
   "cell_type": "code",
   "execution_count": 20,
   "metadata": {},
   "outputs": [
    {
     "data": {
      "image/png": "[encoded data removed]",
      "text/plain": [
       "<Figure size 1600x600 with 10 Axes>"
      ]
     },
     "metadata": {},
     "output_type": "display_data"
    }
   ],
   "source": [
    "# Визуализируем первые 10 изображений\n",
    "plt.figure(figsize=(16, 6))\n",
    "width = int(np.sqrt(X.shape[1]))\n",
    "\n",
    "for i in range(10):\n",
    "    plt.subplot(2, 5, i + 1)\n",
    "    plt.imshow(X[i, :].reshape([width, width]), cmap='gray')\n",
    "    plt.title(f\"Label: {y[i]}\")\n",
    "    plt.axis('off')\n",
    "\n",
    "plt.show()"
   ]
  },
  {
   "cell_type": "code",
   "execution_count": 21,
   "metadata": {},
   "outputs": [
    {
     "name": "stdout",
     "output_type": "stream",
     "text": [
      "Точность классификации: 0.9861111111111112\n"
     ]
    }
   ],
   "source": [
    "# Разделяем данные на тренировочную и тестовую выборки\n",
    "X_train, X_test, y_train, y_test = train_test_split(X, y, random_state=42, test_size=0.2)\n",
    "\n",
    "# Используем функцию nearest_neighbours_classify для предсказания\n",
    "y_pred = nearest_neighbours_classify(X_train, y_train, 5, X_test)\n",
    "\n",
    "# Оцениваем точность классификации\n",
    "print(\"Точность классификации:\", accuracy_score(y_test, y_pred))"
   ]
  }
 ],
 "metadata": {
  "kernelspec": {
   "display_name": "Python 3",
   "language": "python",
   "name": "python3"
  },
  "language_info": {
   "codemirror_mode": {
    "name": "ipython",
    "version": 3
   },
   "file_extension": ".py",
   "mimetype": "text/x-python",
   "name": "python",
   "nbconvert_exporter": "python",
   "pygments_lexer": "ipython3",
   "version": "3.13.1"
  }
 },
 "nbformat": 4,
 "nbformat_minor": 2
}
